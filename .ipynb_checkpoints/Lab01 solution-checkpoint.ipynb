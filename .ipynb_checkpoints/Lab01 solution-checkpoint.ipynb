{
 "cells": [
  {
   "cell_type": "markdown",
   "metadata": {},
   "source": [
    "LABORATORY 01 REPORT\n",
    "Participants:\n",
    "1. Godfrey Mghase Reg#: 239195\n",
    "2. Hope Ugoala Reg#: 239198\n",
    "3. Ivan Yevglevskiy Reg#: 239199"
   ]
  },
  {
   "cell_type": "code",
   "execution_count": 1,
   "metadata": {},
   "outputs": [],
   "source": [
    "import pandas as pd\n",
    "import seaborn as sns\n",
    "import matplotlib.pyplot as plt"
   ]
  },
  {
   "cell_type": "code",
   "execution_count": 2,
   "metadata": {},
   "outputs": [
    {
     "data": {
      "text/html": [
       "<div>\n",
       "<style scoped>\n",
       "    .dataframe tbody tr th:only-of-type {\n",
       "        vertical-align: middle;\n",
       "    }\n",
       "\n",
       "    .dataframe tbody tr th {\n",
       "        vertical-align: top;\n",
       "    }\n",
       "\n",
       "    .dataframe thead th {\n",
       "        text-align: right;\n",
       "    }\n",
       "</style>\n",
       "<table border=\"1\" class=\"dataframe\">\n",
       "  <thead>\n",
       "    <tr style=\"text-align: right;\">\n",
       "      <th></th>\n",
       "      <th>incident_id</th>\n",
       "      <th>date</th>\n",
       "      <th>state</th>\n",
       "      <th>city_or_county</th>\n",
       "      <th>address</th>\n",
       "      <th>n_killed</th>\n",
       "      <th>n_injured</th>\n",
       "      <th>latitude</th>\n",
       "      <th>longitude</th>\n",
       "    </tr>\n",
       "  </thead>\n",
       "  <tbody>\n",
       "    <tr>\n",
       "      <th>0</th>\n",
       "      <td>461105</td>\n",
       "      <td>1/1/2013</td>\n",
       "      <td>Pennsylvania</td>\n",
       "      <td>Mckeesport</td>\n",
       "      <td>1506 Versailles Avenue and Coursin Street</td>\n",
       "      <td>0</td>\n",
       "      <td>4</td>\n",
       "      <td>40.3467</td>\n",
       "      <td>-79.8559</td>\n",
       "    </tr>\n",
       "    <tr>\n",
       "      <th>1</th>\n",
       "      <td>460726</td>\n",
       "      <td>1/1/2013</td>\n",
       "      <td>California</td>\n",
       "      <td>Hawthorne</td>\n",
       "      <td>13500 block of Cerise Avenue</td>\n",
       "      <td>1</td>\n",
       "      <td>3</td>\n",
       "      <td>33.9090</td>\n",
       "      <td>-118.3330</td>\n",
       "    </tr>\n",
       "    <tr>\n",
       "      <th>2</th>\n",
       "      <td>478855</td>\n",
       "      <td>1/1/2013</td>\n",
       "      <td>Ohio</td>\n",
       "      <td>Lorain</td>\n",
       "      <td>1776 East 28th Street</td>\n",
       "      <td>1</td>\n",
       "      <td>3</td>\n",
       "      <td>41.4455</td>\n",
       "      <td>-82.1377</td>\n",
       "    </tr>\n",
       "    <tr>\n",
       "      <th>3</th>\n",
       "      <td>478925</td>\n",
       "      <td>1/5/2013</td>\n",
       "      <td>Colorado</td>\n",
       "      <td>Aurora</td>\n",
       "      <td>16000 block of East Ithaca Place</td>\n",
       "      <td>4</td>\n",
       "      <td>0</td>\n",
       "      <td>39.6518</td>\n",
       "      <td>-104.8020</td>\n",
       "    </tr>\n",
       "    <tr>\n",
       "      <th>4</th>\n",
       "      <td>478959</td>\n",
       "      <td>1/7/2013</td>\n",
       "      <td>North Carolina</td>\n",
       "      <td>Greensboro</td>\n",
       "      <td>307 Mourning Dove Terrace</td>\n",
       "      <td>2</td>\n",
       "      <td>2</td>\n",
       "      <td>36.1140</td>\n",
       "      <td>-79.9569</td>\n",
       "    </tr>\n",
       "  </tbody>\n",
       "</table>\n",
       "</div>"
      ],
      "text/plain": [
       "   incident_id      date           state city_or_county  \\\n",
       "0       461105  1/1/2013    Pennsylvania     Mckeesport   \n",
       "1       460726  1/1/2013      California      Hawthorne   \n",
       "2       478855  1/1/2013            Ohio         Lorain   \n",
       "3       478925  1/5/2013        Colorado         Aurora   \n",
       "4       478959  1/7/2013  North Carolina     Greensboro   \n",
       "\n",
       "                                     address  n_killed  n_injured  latitude  \\\n",
       "0  1506 Versailles Avenue and Coursin Street         0          4   40.3467   \n",
       "1               13500 block of Cerise Avenue         1          3   33.9090   \n",
       "2                      1776 East 28th Street         1          3   41.4455   \n",
       "3           16000 block of East Ithaca Place         4          0   39.6518   \n",
       "4                  307 Mourning Dove Terrace         2          2   36.1140   \n",
       "\n",
       "   longitude  \n",
       "0   -79.8559  \n",
       "1  -118.3330  \n",
       "2   -82.1377  \n",
       "3  -104.8020  \n",
       "4   -79.9569  "
      ]
     },
     "execution_count": 2,
     "metadata": {},
     "output_type": "execute_result"
    }
   ],
   "source": [
    "#Uploading dataset\n",
    "df = pd.read_csv('C:/Python/guns.csv',encoding = \"ISO-8859-1\")\n",
    "df.head()"
   ]
  },
  {
   "cell_type": "code",
   "execution_count": 4,
   "metadata": {},
   "outputs": [
    {
     "data": {
      "text/plain": [
       "incident_id       False\n",
       "date              False\n",
       "state             False\n",
       "city_or_county    False\n",
       "address            True\n",
       "n_killed          False\n",
       "n_injured         False\n",
       "latitude           True\n",
       "longitude          True\n",
       "dtype: bool"
      ]
     },
     "execution_count": 4,
     "metadata": {},
     "output_type": "execute_result"
    }
   ],
   "source": [
    "#checking for null values/missing values\n",
    "df.isnull().any()"
   ]
  },
  {
   "cell_type": "markdown",
   "metadata": {},
   "source": [
    "From above we see that the address, latitude and longitude columns have some missing data. For the sake of the questions asked we will not deal with these columns hence can be ignored for now."
   ]
  },
  {
   "cell_type": "code",
   "execution_count": 5,
   "metadata": {},
   "outputs": [
    {
     "data": {
      "text/plain": [
       "state\n",
       "California    5562\n",
       "Texas         5046\n",
       "Florida       3909\n",
       "Illinois      3409\n",
       "Ohio          2508\n",
       "Name: n_killed, dtype: int64"
      ]
     },
     "execution_count": 5,
     "metadata": {},
     "output_type": "execute_result"
    }
   ],
   "source": [
    "#Calculating the state with the highest number of murders\n",
    "n_killed_total = df.groupby('state')['n_killed'].sum().sort_values(ascending = False)\n",
    "n_killed_total.head()"
   ]
  },
  {
   "cell_type": "markdown",
   "metadata": {},
   "source": [
    "1(a) California state has the highest number of murders. Let's plot the scatter plot to check if there is a direct relationship between the state population and the number of murders. Note: Estimated population of the states were retrieved from https://www.census.gov/data/datasets/time-series/demo/popest/2010s-state-total.html"
   ]
  },
  {
   "cell_type": "code",
   "execution_count": 6,
   "metadata": {},
   "outputs": [
    {
     "data": {
      "text/html": [
       "<div>\n",
       "<style scoped>\n",
       "    .dataframe tbody tr th:only-of-type {\n",
       "        vertical-align: middle;\n",
       "    }\n",
       "\n",
       "    .dataframe tbody tr th {\n",
       "        vertical-align: top;\n",
       "    }\n",
       "\n",
       "    .dataframe thead th {\n",
       "        text-align: right;\n",
       "    }\n",
       "</style>\n",
       "<table border=\"1\" class=\"dataframe\">\n",
       "  <thead>\n",
       "    <tr style=\"text-align: right;\">\n",
       "      <th></th>\n",
       "      <th>state</th>\n",
       "      <th>population</th>\n",
       "    </tr>\n",
       "  </thead>\n",
       "  <tbody>\n",
       "    <tr>\n",
       "      <th>0</th>\n",
       "      <td>Alabama</td>\n",
       "      <td>4903185.0</td>\n",
       "    </tr>\n",
       "    <tr>\n",
       "      <th>1</th>\n",
       "      <td>Alaska</td>\n",
       "      <td>731545.0</td>\n",
       "    </tr>\n",
       "    <tr>\n",
       "      <th>2</th>\n",
       "      <td>Arizona</td>\n",
       "      <td>7278717.0</td>\n",
       "    </tr>\n",
       "    <tr>\n",
       "      <th>3</th>\n",
       "      <td>Arkansas</td>\n",
       "      <td>3017804.0</td>\n",
       "    </tr>\n",
       "    <tr>\n",
       "      <th>4</th>\n",
       "      <td>California</td>\n",
       "      <td>39512223.0</td>\n",
       "    </tr>\n",
       "  </tbody>\n",
       "</table>\n",
       "</div>"
      ],
      "text/plain": [
       "        state  population\n",
       "0     Alabama   4903185.0\n",
       "1      Alaska    731545.0\n",
       "2     Arizona   7278717.0\n",
       "3    Arkansas   3017804.0\n",
       "4  California  39512223.0"
      ]
     },
     "execution_count": 6,
     "metadata": {},
     "output_type": "execute_result"
    }
   ],
   "source": [
    "#Uploading the population data set\n",
    "usa_pop = pd.read_csv('C:/Python/usa_pop_2019.csv',encoding = \"ISO-8859-1\")\n",
    "usa_pop.head()"
   ]
  },
  {
   "cell_type": "code",
   "execution_count": 7,
   "metadata": {},
   "outputs": [
    {
     "data": {
      "text/plain": [
       "state         False\n",
       "population    False\n",
       "dtype: bool"
      ]
     },
     "execution_count": 7,
     "metadata": {},
     "output_type": "execute_result"
    }
   ],
   "source": [
    "#check if some data are missing\n",
    "usa_pop.isnull().any()"
   ]
  },
  {
   "cell_type": "code",
   "execution_count": 8,
   "metadata": {},
   "outputs": [
    {
     "data": {
      "text/html": [
       "<div>\n",
       "<style scoped>\n",
       "    .dataframe tbody tr th:only-of-type {\n",
       "        vertical-align: middle;\n",
       "    }\n",
       "\n",
       "    .dataframe tbody tr th {\n",
       "        vertical-align: top;\n",
       "    }\n",
       "\n",
       "    .dataframe thead th {\n",
       "        text-align: right;\n",
       "    }\n",
       "</style>\n",
       "<table border=\"1\" class=\"dataframe\">\n",
       "  <thead>\n",
       "    <tr style=\"text-align: right;\">\n",
       "      <th></th>\n",
       "      <th>state</th>\n",
       "      <th>population</th>\n",
       "      <th>n_killed</th>\n",
       "    </tr>\n",
       "  </thead>\n",
       "  <tbody>\n",
       "    <tr>\n",
       "      <th>0</th>\n",
       "      <td>Alabama</td>\n",
       "      <td>4903185.0</td>\n",
       "      <td>1880</td>\n",
       "    </tr>\n",
       "    <tr>\n",
       "      <th>1</th>\n",
       "      <td>Alaska</td>\n",
       "      <td>731545.0</td>\n",
       "      <td>267</td>\n",
       "    </tr>\n",
       "    <tr>\n",
       "      <th>2</th>\n",
       "      <td>Arizona</td>\n",
       "      <td>7278717.0</td>\n",
       "      <td>1094</td>\n",
       "    </tr>\n",
       "    <tr>\n",
       "      <th>3</th>\n",
       "      <td>Arkansas</td>\n",
       "      <td>3017804.0</td>\n",
       "      <td>773</td>\n",
       "    </tr>\n",
       "    <tr>\n",
       "      <th>4</th>\n",
       "      <td>California</td>\n",
       "      <td>39512223.0</td>\n",
       "      <td>5562</td>\n",
       "    </tr>\n",
       "  </tbody>\n",
       "</table>\n",
       "</div>"
      ],
      "text/plain": [
       "        state  population  n_killed\n",
       "0     Alabama   4903185.0      1880\n",
       "1      Alaska    731545.0       267\n",
       "2     Arizona   7278717.0      1094\n",
       "3    Arkansas   3017804.0       773\n",
       "4  California  39512223.0      5562"
      ]
     },
     "execution_count": 8,
     "metadata": {},
     "output_type": "execute_result"
    }
   ],
   "source": [
    "#merge data state population and total number of murders in a state\n",
    "m_p = pd.merge(usa_pop,n_killed_total, on='state')\n",
    "m_p.head()"
   ]
  },
  {
   "cell_type": "code",
   "execution_count": 9,
   "metadata": {},
   "outputs": [
    {
     "data": {
      "text/plain": [
       "state         False\n",
       "population    False\n",
       "n_killed      False\n",
       "dtype: bool"
      ]
     },
     "execution_count": 9,
     "metadata": {},
     "output_type": "execute_result"
    }
   ],
   "source": [
    "#ensuring data is clean// all states are filled with data\n",
    "m_p.isnull().any()"
   ]
  },
  {
   "cell_type": "code",
   "execution_count": 10,
   "metadata": {},
   "outputs": [
    {
     "data": {
      "text/plain": [
       "Text(0.5, 0, 'state population')"
      ]
     },
     "execution_count": 10,
     "metadata": {},
     "output_type": "execute_result"
    },
    {
     "data": {
      "image/png": "[encoded data removed]",
      "text/plain": [
       "<Figure size 1152x288 with 1 Axes>"
      ]
     },
     "metadata": {
      "needs_background": "light"
     },
     "output_type": "display_data"
    }
   ],
   "source": [
    "fig = plt.figure(figsize = (16,4))\n",
    "plt.scatter(m_p['population'],m_p['n_killed'])\n",
    "_=plt.xticks(rotation = 'vertical')\n",
    "plt.ylabel('Total number of murders in a state')\n",
    "plt.xlabel('state population')"
   ]
  },
  {
   "cell_type": "markdown",
   "metadata": {},
   "source": [
    "1(b): Would you say 'CALIFORNIA' is the most dangerous state: It is hard to say so at this stage because there is no direct relationship between state population and the number of murders as per above scatter plot. We will answer this question later when we plot the relationship between a state and its murders rate."
   ]
  },
  {
   "cell_type": "code",
   "execution_count": 11,
   "metadata": {},
   "outputs": [],
   "source": [
    "#creation of the new data set with the suggested column names and exporting them to the file named 'new_data_set.csv'\n",
    "new_data = pd.merge(usa_pop,df.groupby('state')['n_killed'].sum(),left_on = 'state',right_on = 'state')\n",
    "new_data = new_data.rename(columns={'n_killed':'murders_total'})\n",
    "new_data['murder_rate/10000'] = (new_data['murders_total']/new_data['population'])*10000\n",
    "new_data.to_csv('c:/python/new_data_set.csv', index = False)"
   ]
  },
  {
   "cell_type": "code",
   "execution_count": 12,
   "metadata": {},
   "outputs": [
    {
     "data": {
      "text/html": [
       "<div>\n",
       "<style scoped>\n",
       "    .dataframe tbody tr th:only-of-type {\n",
       "        vertical-align: middle;\n",
       "    }\n",
       "\n",
       "    .dataframe tbody tr th {\n",
       "        vertical-align: top;\n",
       "    }\n",
       "\n",
       "    .dataframe thead th {\n",
       "        text-align: right;\n",
       "    }\n",
       "</style>\n",
       "<table border=\"1\" class=\"dataframe\">\n",
       "  <thead>\n",
       "    <tr style=\"text-align: right;\">\n",
       "      <th></th>\n",
       "      <th>state</th>\n",
       "      <th>population</th>\n",
       "      <th>murders_total</th>\n",
       "      <th>murder_rate/10000</th>\n",
       "    </tr>\n",
       "  </thead>\n",
       "  <tbody>\n",
       "    <tr>\n",
       "      <th>0</th>\n",
       "      <td>Alabama</td>\n",
       "      <td>4903185.0</td>\n",
       "      <td>1880</td>\n",
       "      <td>3.834242</td>\n",
       "    </tr>\n",
       "    <tr>\n",
       "      <th>1</th>\n",
       "      <td>Alaska</td>\n",
       "      <td>731545.0</td>\n",
       "      <td>267</td>\n",
       "      <td>3.649810</td>\n",
       "    </tr>\n",
       "    <tr>\n",
       "      <th>2</th>\n",
       "      <td>Arizona</td>\n",
       "      <td>7278717.0</td>\n",
       "      <td>1094</td>\n",
       "      <td>1.503012</td>\n",
       "    </tr>\n",
       "    <tr>\n",
       "      <th>3</th>\n",
       "      <td>Arkansas</td>\n",
       "      <td>3017804.0</td>\n",
       "      <td>773</td>\n",
       "      <td>2.561465</td>\n",
       "    </tr>\n",
       "    <tr>\n",
       "      <th>4</th>\n",
       "      <td>California</td>\n",
       "      <td>39512223.0</td>\n",
       "      <td>5562</td>\n",
       "      <td>1.407666</td>\n",
       "    </tr>\n",
       "  </tbody>\n",
       "</table>\n",
       "</div>"
      ],
      "text/plain": [
       "        state  population  murders_total  murder_rate/10000\n",
       "0     Alabama   4903185.0           1880           3.834242\n",
       "1      Alaska    731545.0            267           3.649810\n",
       "2     Arizona   7278717.0           1094           1.503012\n",
       "3    Arkansas   3017804.0            773           2.561465\n",
       "4  California  39512223.0           5562           1.407666"
      ]
     },
     "execution_count": 12,
     "metadata": {},
     "output_type": "execute_result"
    }
   ],
   "source": [
    "#confirming if the csv file were created\n",
    "usa_pop = pd.read_csv('C:/Python/new_data_set.csv',encoding = \"ISO-8859-1\")\n",
    "usa_pop.head()"
   ]
  },
  {
   "cell_type": "code",
   "execution_count": 13,
   "metadata": {},
   "outputs": [
    {
     "data": {
      "text/plain": [
       "Text(0.5, 1, 'State Total Murder Rate vs State')"
      ]
     },
     "execution_count": 13,
     "metadata": {},
     "output_type": "execute_result"
    },
    {
     "data": {
      "image/png": "[encoded data removed]",
      "text/plain": [
       "<Figure size 1152x360 with 1 Axes>"
      ]
     },
     "metadata": {
      "needs_background": "light"
     },
     "output_type": "display_data"
    }
   ],
   "source": [
    "#plotting a bar graph between state and murder_rate\n",
    "fig = plt.figure(figsize=(16,5))\n",
    "sns.barplot(x ='state',y = 'murder_rate/10000', data = new_data, order = new_data.sort_values('murder_rate/10000',ascending = False).state)\n",
    "_=plt.xticks(rotation = 'vertical')\n",
    "plt.tight_layout()\n",
    "plt.ylabel('State Murder Rate per 10,000 People')\n",
    "plt.title('State Total Murder Rate vs State')"
   ]
  },
  {
   "cell_type": "markdown",
   "metadata": {},
   "source": [
    "3-- Notes:\n",
    "From the plot above we see that, \n",
    "->District of Columbia has the most murder of around 6  per every 10,000 people\n",
    "->Hawaii has the least murder of about 5 per every 100,000 people\n",
    "->Some of the states such as Illinois and Tennessee,Nevada and Arkansas, etc exhibits around similar murder rate.\n",
    "\n",
    "We may therefore comfortably state that California is not the most dangerous state interms of murders, but District of Columbia it is.\n",
    "\n",
    "To check how the murder rate is distributed geographically, we distributed the states into regions from the reference: https://www2.census.gov/programs-surveys/popest/geographies/2016/state-geocodes-v2016.xls"
   ]
  },
  {
   "cell_type": "code",
   "execution_count": 14,
   "metadata": {},
   "outputs": [
    {
     "data": {
      "text/html": [
       "<div>\n",
       "<style scoped>\n",
       "    .dataframe tbody tr th:only-of-type {\n",
       "        vertical-align: middle;\n",
       "    }\n",
       "\n",
       "    .dataframe tbody tr th {\n",
       "        vertical-align: top;\n",
       "    }\n",
       "\n",
       "    .dataframe thead th {\n",
       "        text-align: right;\n",
       "    }\n",
       "</style>\n",
       "<table border=\"1\" class=\"dataframe\">\n",
       "  <thead>\n",
       "    <tr style=\"text-align: right;\">\n",
       "      <th></th>\n",
       "      <th>state</th>\n",
       "      <th>Region</th>\n",
       "    </tr>\n",
       "  </thead>\n",
       "  <tbody>\n",
       "    <tr>\n",
       "      <th>0</th>\n",
       "      <td>Connecticut</td>\n",
       "      <td>Northeast</td>\n",
       "    </tr>\n",
       "    <tr>\n",
       "      <th>1</th>\n",
       "      <td>Maine</td>\n",
       "      <td>Northeast</td>\n",
       "    </tr>\n",
       "    <tr>\n",
       "      <th>2</th>\n",
       "      <td>Massachusetts</td>\n",
       "      <td>Northeast</td>\n",
       "    </tr>\n",
       "    <tr>\n",
       "      <th>3</th>\n",
       "      <td>New Hampshire</td>\n",
       "      <td>Northeast</td>\n",
       "    </tr>\n",
       "    <tr>\n",
       "      <th>4</th>\n",
       "      <td>Rhode Island</td>\n",
       "      <td>Northeast</td>\n",
       "    </tr>\n",
       "  </tbody>\n",
       "</table>\n",
       "</div>"
      ],
      "text/plain": [
       "           state     Region\n",
       "0    Connecticut  Northeast\n",
       "1          Maine  Northeast\n",
       "2  Massachusetts  Northeast\n",
       "3  New Hampshire  Northeast\n",
       "4   Rhode Island  Northeast"
      ]
     },
     "execution_count": 14,
     "metadata": {},
     "output_type": "execute_result"
    }
   ],
   "source": [
    "#upload data set\n",
    "regions = pd.read_csv('c:/python/state-geocodes-v2015.csv')\n",
    "regions.head()"
   ]
  },
  {
   "cell_type": "code",
   "execution_count": 15,
   "metadata": {},
   "outputs": [
    {
     "data": {
      "text/html": [
       "<div>\n",
       "<style scoped>\n",
       "    .dataframe tbody tr th:only-of-type {\n",
       "        vertical-align: middle;\n",
       "    }\n",
       "\n",
       "    .dataframe tbody tr th {\n",
       "        vertical-align: top;\n",
       "    }\n",
       "\n",
       "    .dataframe thead th {\n",
       "        text-align: right;\n",
       "    }\n",
       "</style>\n",
       "<table border=\"1\" class=\"dataframe\">\n",
       "  <thead>\n",
       "    <tr style=\"text-align: right;\">\n",
       "      <th></th>\n",
       "      <th>state</th>\n",
       "      <th>population</th>\n",
       "      <th>murders_total</th>\n",
       "      <th>murder_rate/10000</th>\n",
       "      <th>Region</th>\n",
       "    </tr>\n",
       "  </thead>\n",
       "  <tbody>\n",
       "    <tr>\n",
       "      <th>0</th>\n",
       "      <td>Alabama</td>\n",
       "      <td>4903185.0</td>\n",
       "      <td>1880</td>\n",
       "      <td>3.834242</td>\n",
       "      <td>South</td>\n",
       "    </tr>\n",
       "    <tr>\n",
       "      <th>1</th>\n",
       "      <td>Alaska</td>\n",
       "      <td>731545.0</td>\n",
       "      <td>267</td>\n",
       "      <td>3.649810</td>\n",
       "      <td>West</td>\n",
       "    </tr>\n",
       "    <tr>\n",
       "      <th>2</th>\n",
       "      <td>Arizona</td>\n",
       "      <td>7278717.0</td>\n",
       "      <td>1094</td>\n",
       "      <td>1.503012</td>\n",
       "      <td>West</td>\n",
       "    </tr>\n",
       "    <tr>\n",
       "      <th>3</th>\n",
       "      <td>Arkansas</td>\n",
       "      <td>3017804.0</td>\n",
       "      <td>773</td>\n",
       "      <td>2.561465</td>\n",
       "      <td>South</td>\n",
       "    </tr>\n",
       "    <tr>\n",
       "      <th>4</th>\n",
       "      <td>California</td>\n",
       "      <td>39512223.0</td>\n",
       "      <td>5562</td>\n",
       "      <td>1.407666</td>\n",
       "      <td>West</td>\n",
       "    </tr>\n",
       "  </tbody>\n",
       "</table>\n",
       "</div>"
      ],
      "text/plain": [
       "        state  population  murders_total  murder_rate/10000 Region\n",
       "0     Alabama   4903185.0           1880           3.834242  South\n",
       "1      Alaska    731545.0            267           3.649810   West\n",
       "2     Arizona   7278717.0           1094           1.503012   West\n",
       "3    Arkansas   3017804.0            773           2.561465  South\n",
       "4  California  39512223.0           5562           1.407666   West"
      ]
     },
     "execution_count": 15,
     "metadata": {},
     "output_type": "execute_result"
    }
   ],
   "source": [
    "#merge regions with usa_pop\n",
    "new_data_region = pd.merge(new_data,regions,left_on='state',right_on ='state')\n",
    "new_data_region.head()"
   ]
  },
  {
   "cell_type": "code",
   "execution_count": 16,
   "metadata": {},
   "outputs": [
    {
     "data": {
      "text/plain": [
       "state                False\n",
       "population           False\n",
       "murders_total        False\n",
       "murder_rate/10000    False\n",
       "Region               False\n",
       "dtype: bool"
      ]
     },
     "execution_count": 16,
     "metadata": {},
     "output_type": "execute_result"
    }
   ],
   "source": [
    "#checking the missing data\n",
    "new_data_region.isnull().any()"
   ]
  },
  {
   "cell_type": "code",
   "execution_count": 18,
   "metadata": {},
   "outputs": [
    {
     "data": {
      "text/html": [
       "<div>\n",
       "<style scoped>\n",
       "    .dataframe tbody tr th:only-of-type {\n",
       "        vertical-align: middle;\n",
       "    }\n",
       "\n",
       "    .dataframe tbody tr th {\n",
       "        vertical-align: top;\n",
       "    }\n",
       "\n",
       "    .dataframe thead th {\n",
       "        text-align: right;\n",
       "    }\n",
       "</style>\n",
       "<table border=\"1\" class=\"dataframe\">\n",
       "  <thead>\n",
       "    <tr style=\"text-align: right;\">\n",
       "      <th></th>\n",
       "      <th>Region</th>\n",
       "      <th>population</th>\n",
       "      <th>murders_total</th>\n",
       "      <th>murder_rate/10000</th>\n",
       "      <th>murder_rate_total/10000</th>\n",
       "    </tr>\n",
       "  </thead>\n",
       "  <tbody>\n",
       "    <tr>\n",
       "      <th>0</th>\n",
       "      <td>Midwest</td>\n",
       "      <td>68329004.0</td>\n",
       "      <td>13771</td>\n",
       "      <td>20.404233</td>\n",
       "      <td>2.015396</td>\n",
       "    </tr>\n",
       "    <tr>\n",
       "      <th>1</th>\n",
       "      <td>Northeast</td>\n",
       "      <td>55982803.0</td>\n",
       "      <td>6401</td>\n",
       "      <td>8.692061</td>\n",
       "      <td>1.143387</td>\n",
       "    </tr>\n",
       "    <tr>\n",
       "      <th>2</th>\n",
       "      <td>South</td>\n",
       "      <td>125580448.0</td>\n",
       "      <td>29246</td>\n",
       "      <td>48.699092</td>\n",
       "      <td>2.328866</td>\n",
       "    </tr>\n",
       "    <tr>\n",
       "      <th>3</th>\n",
       "      <td>West</td>\n",
       "      <td>78347268.0</td>\n",
       "      <td>11050</td>\n",
       "      <td>20.030762</td>\n",
       "      <td>1.410387</td>\n",
       "    </tr>\n",
       "  </tbody>\n",
       "</table>\n",
       "</div>"
      ],
      "text/plain": [
       "      Region   population  murders_total  murder_rate/10000  \\\n",
       "0    Midwest   68329004.0          13771          20.404233   \n",
       "1  Northeast   55982803.0           6401           8.692061   \n",
       "2      South  125580448.0          29246          48.699092   \n",
       "3       West   78347268.0          11050          20.030762   \n",
       "\n",
       "   murder_rate_total/10000  \n",
       "0                 2.015396  \n",
       "1                 1.143387  \n",
       "2                 2.328866  \n",
       "3                 1.410387  "
      ]
     },
     "execution_count": 18,
     "metadata": {},
     "output_type": "execute_result"
    }
   ],
   "source": [
    "#Calculate murder rate regionwise\n",
    "murder_rate_total = new_data_region.groupby('Region').sum()\n",
    "murder_rate_total['murder_rate_total/10000']=(murder_rate_total['murders_total']/murder_rate_total['population'])*10000\n",
    "murder_rate_total.reset_index(inplace = True)\n",
    "murder_rate_total.head()"
   ]
  },
  {
   "cell_type": "code",
   "execution_count": 19,
   "metadata": {},
   "outputs": [
    {
     "data": {
      "text/plain": [
       "Text(0.5, 1.0, 'Region Total Murder Rate vs Region')"
      ]
     },
     "execution_count": 19,
     "metadata": {},
     "output_type": "execute_result"
    },
    {
     "data": {
      "image/png": "[encoded data removed]",
      "text/plain": [
       "<Figure size 288x216 with 1 Axes>"
      ]
     },
     "metadata": {
      "needs_background": "light"
     },
     "output_type": "display_data"
    }
   ],
   "source": [
    "# A bar plot to show how the murder rate is distributed regionwise\n",
    "fig = plt.figure(figsize=(4,3))\n",
    "sns.barplot(x ='Region',y = 'murder_rate_total/10000', data = murder_rate_total, order = murder_rate_total.sort_values('murder_rate_total/10000',ascending = False).Region)\n",
    "_=plt.xticks(rotation = 'vertical')\n",
    "#plt.tight_layout()\n",
    "plt.ylabel('Region Murder Rate per 10,000 People')\n",
    "plt.title('Region Total Murder Rate vs Region')"
   ]
  },
  {
   "cell_type": "markdown",
   "metadata": {},
   "source": [
    "It is clear from the plot above that, South zone of USA is the most dangerous and Northeast is the least dangerous"
   ]
  },
  {
   "cell_type": "markdown",
   "metadata": {},
   "source": [
    "Conclusion: From the given data set,\n",
    "While other factors remain constant and considering only the murder rate, We would advise our friend to use the plotted bar chart to select a place for work in USA, with the least dangerous state being Hawaii and the most dangerous being the District of Columbia. Our friend may decide as well to work in Northeast part of USA than the Southern part."
   ]
  },
  {
   "cell_type": "code",
   "execution_count": null,
   "metadata": {},
   "outputs": [],
   "source": []
  }
 ],
 "metadata": {
  "kernelspec": {
   "display_name": "Python 3",
   "language": "python",
   "name": "python3"
  },
  "language_info": {
   "codemirror_mode": {
    "name": "ipython",
    "version": 3
   },
   "file_extension": ".py",
   "mimetype": "text/x-python",
   "name": "python",
   "nbconvert_exporter": "python",
   "pygments_lexer": "ipython3",
   "version": "3.7.6"
  }
 },
 "nbformat": 4,
 "nbformat_minor": 4
}
