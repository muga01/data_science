{
 "cells": [
  {
   "cell_type": "markdown",
   "metadata": {},
   "source": [
    "## TITLE : Predict whether a mammogram mass is benign or malignant \n",
    "               GODFREY MGHASE 239195, IVAN YEVGLEVSKIY 239199 "
   ]
  },
  {
   "cell_type": "markdown",
   "metadata": {},
   "source": [
    "In this project we aim at finding the model which will accurately predict whether a mammogram mass is a benign or malignant. The aim is to assist doctors to correctly interpret the mammogram results inorder to avoid wrong breast surgeries. In the whole process we will use python libraries such as scikit to achieve the goal. We start with dataset download, pre-processing them, Training the data through different models and hence conclusion. Comments are provided in each section of the code block for the clear understanding of the codes. "
   ]
  },
  {
   "cell_type": "markdown",
   "metadata": {},
   "source": [
    "## Data Pre-processing"
   ]
  },
  {
   "cell_type": "code",
   "execution_count": 1,
   "metadata": {},
   "outputs": [],
   "source": [
    "# Importing Important Libraries\n",
    "\n",
    "import numpy as np\n",
    "import pandas as pd\n",
    "import matplotlib.pyplot as plt\n",
    "import seaborn as sns"
   ]
  },
  {
   "cell_type": "code",
   "execution_count": 2,
   "metadata": {},
   "outputs": [
    {
     "data": {
      "text/html": [
       "<div>\n",
       "<style scoped>\n",
       "    .dataframe tbody tr th:only-of-type {\n",
       "        vertical-align: middle;\n",
       "    }\n",
       "\n",
       "    .dataframe tbody tr th {\n",
       "        vertical-align: top;\n",
       "    }\n",
       "\n",
       "    .dataframe thead th {\n",
       "        text-align: right;\n",
       "    }\n",
       "</style>\n",
       "<table border=\"1\" class=\"dataframe\">\n",
       "  <thead>\n",
       "    <tr style=\"text-align: right;\">\n",
       "      <th></th>\n",
       "      <th>5</th>\n",
       "      <th>67</th>\n",
       "      <th>3</th>\n",
       "      <th>5.1</th>\n",
       "      <th>3.1</th>\n",
       "      <th>1</th>\n",
       "    </tr>\n",
       "  </thead>\n",
       "  <tbody>\n",
       "    <tr>\n",
       "      <th>0</th>\n",
       "      <td>4</td>\n",
       "      <td>43</td>\n",
       "      <td>1</td>\n",
       "      <td>1</td>\n",
       "      <td>?</td>\n",
       "      <td>1</td>\n",
       "    </tr>\n",
       "    <tr>\n",
       "      <th>1</th>\n",
       "      <td>5</td>\n",
       "      <td>58</td>\n",
       "      <td>4</td>\n",
       "      <td>5</td>\n",
       "      <td>3</td>\n",
       "      <td>1</td>\n",
       "    </tr>\n",
       "    <tr>\n",
       "      <th>2</th>\n",
       "      <td>4</td>\n",
       "      <td>28</td>\n",
       "      <td>1</td>\n",
       "      <td>1</td>\n",
       "      <td>3</td>\n",
       "      <td>0</td>\n",
       "    </tr>\n",
       "    <tr>\n",
       "      <th>3</th>\n",
       "      <td>5</td>\n",
       "      <td>74</td>\n",
       "      <td>1</td>\n",
       "      <td>5</td>\n",
       "      <td>?</td>\n",
       "      <td>1</td>\n",
       "    </tr>\n",
       "    <tr>\n",
       "      <th>4</th>\n",
       "      <td>4</td>\n",
       "      <td>65</td>\n",
       "      <td>1</td>\n",
       "      <td>?</td>\n",
       "      <td>3</td>\n",
       "      <td>0</td>\n",
       "    </tr>\n",
       "  </tbody>\n",
       "</table>\n",
       "</div>"
      ],
      "text/plain": [
       "   5  67  3 5.1 3.1  1\n",
       "0  4  43  1   1   ?  1\n",
       "1  5  58  4   5   3  1\n",
       "2  4  28  1   1   3  0\n",
       "3  5  74  1   5   ?  1\n",
       "4  4  65  1   ?   3  0"
      ]
     },
     "execution_count": 2,
     "metadata": {},
     "output_type": "execute_result"
    }
   ],
   "source": [
    "# Loading the Dataset\n",
    "\n",
    "mass = pd.read_csv('./data/mammographic_masses_data.txt')\n",
    "mass.head()"
   ]
  },
  {
   "cell_type": "code",
   "execution_count": 3,
   "metadata": {},
   "outputs": [
    {
     "data": {
      "text/html": [
       "<div>\n",
       "<style scoped>\n",
       "    .dataframe tbody tr th:only-of-type {\n",
       "        vertical-align: middle;\n",
       "    }\n",
       "\n",
       "    .dataframe tbody tr th {\n",
       "        vertical-align: top;\n",
       "    }\n",
       "\n",
       "    .dataframe thead th {\n",
       "        text-align: right;\n",
       "    }\n",
       "</style>\n",
       "<table border=\"1\" class=\"dataframe\">\n",
       "  <thead>\n",
       "    <tr style=\"text-align: right;\">\n",
       "      <th></th>\n",
       "      <th>BI-RADS</th>\n",
       "      <th>age</th>\n",
       "      <th>shape</th>\n",
       "      <th>margin</th>\n",
       "      <th>density</th>\n",
       "      <th>severity</th>\n",
       "    </tr>\n",
       "  </thead>\n",
       "  <tbody>\n",
       "    <tr>\n",
       "      <th>0</th>\n",
       "      <td>5.0</td>\n",
       "      <td>67.0</td>\n",
       "      <td>3.0</td>\n",
       "      <td>5.0</td>\n",
       "      <td>3.0</td>\n",
       "      <td>1</td>\n",
       "    </tr>\n",
       "    <tr>\n",
       "      <th>1</th>\n",
       "      <td>4.0</td>\n",
       "      <td>43.0</td>\n",
       "      <td>1.0</td>\n",
       "      <td>1.0</td>\n",
       "      <td>NaN</td>\n",
       "      <td>1</td>\n",
       "    </tr>\n",
       "    <tr>\n",
       "      <th>2</th>\n",
       "      <td>5.0</td>\n",
       "      <td>58.0</td>\n",
       "      <td>4.0</td>\n",
       "      <td>5.0</td>\n",
       "      <td>3.0</td>\n",
       "      <td>1</td>\n",
       "    </tr>\n",
       "    <tr>\n",
       "      <th>3</th>\n",
       "      <td>4.0</td>\n",
       "      <td>28.0</td>\n",
       "      <td>1.0</td>\n",
       "      <td>1.0</td>\n",
       "      <td>3.0</td>\n",
       "      <td>0</td>\n",
       "    </tr>\n",
       "    <tr>\n",
       "      <th>4</th>\n",
       "      <td>5.0</td>\n",
       "      <td>74.0</td>\n",
       "      <td>1.0</td>\n",
       "      <td>5.0</td>\n",
       "      <td>NaN</td>\n",
       "      <td>1</td>\n",
       "    </tr>\n",
       "  </tbody>\n",
       "</table>\n",
       "</div>"
      ],
      "text/plain": [
       "   BI-RADS   age  shape  margin  density  severity\n",
       "0      5.0  67.0    3.0     5.0      3.0         1\n",
       "1      4.0  43.0    1.0     1.0      NaN         1\n",
       "2      5.0  58.0    4.0     5.0      3.0         1\n",
       "3      4.0  28.0    1.0     1.0      3.0         0\n",
       "4      5.0  74.0    1.0     5.0      NaN         1"
      ]
     },
     "execution_count": 3,
     "metadata": {},
     "output_type": "execute_result"
    }
   ],
   "source": [
    "# Renaming Columns and Fill NAN for ? Values\n",
    "\n",
    "mass = pd.read_csv('c:/python/mammographic_masses_data.txt',na_values = '?', \n",
    "                   names = ['BI-RADS','age','shape','margin','density','severity'])\n",
    "mass.head()"
   ]
  },
  {
   "cell_type": "code",
   "execution_count": 4,
   "metadata": {},
   "outputs": [
    {
     "data": {
      "text/html": [
       "<div>\n",
       "<style scoped>\n",
       "    .dataframe tbody tr th:only-of-type {\n",
       "        vertical-align: middle;\n",
       "    }\n",
       "\n",
       "    .dataframe tbody tr th {\n",
       "        vertical-align: top;\n",
       "    }\n",
       "\n",
       "    .dataframe thead th {\n",
       "        text-align: right;\n",
       "    }\n",
       "</style>\n",
       "<table border=\"1\" class=\"dataframe\">\n",
       "  <thead>\n",
       "    <tr style=\"text-align: right;\">\n",
       "      <th></th>\n",
       "      <th>BI-RADS</th>\n",
       "      <th>age</th>\n",
       "      <th>shape</th>\n",
       "      <th>margin</th>\n",
       "      <th>density</th>\n",
       "      <th>severity</th>\n",
       "    </tr>\n",
       "  </thead>\n",
       "  <tbody>\n",
       "    <tr>\n",
       "      <th>count</th>\n",
       "      <td>959.000000</td>\n",
       "      <td>956.000000</td>\n",
       "      <td>930.000000</td>\n",
       "      <td>913.000000</td>\n",
       "      <td>885.000000</td>\n",
       "      <td>961.000000</td>\n",
       "    </tr>\n",
       "    <tr>\n",
       "      <th>mean</th>\n",
       "      <td>4.348279</td>\n",
       "      <td>55.487448</td>\n",
       "      <td>2.721505</td>\n",
       "      <td>2.796276</td>\n",
       "      <td>2.910734</td>\n",
       "      <td>0.463059</td>\n",
       "    </tr>\n",
       "    <tr>\n",
       "      <th>std</th>\n",
       "      <td>1.783031</td>\n",
       "      <td>14.480131</td>\n",
       "      <td>1.242792</td>\n",
       "      <td>1.566546</td>\n",
       "      <td>0.380444</td>\n",
       "      <td>0.498893</td>\n",
       "    </tr>\n",
       "    <tr>\n",
       "      <th>min</th>\n",
       "      <td>0.000000</td>\n",
       "      <td>18.000000</td>\n",
       "      <td>1.000000</td>\n",
       "      <td>1.000000</td>\n",
       "      <td>1.000000</td>\n",
       "      <td>0.000000</td>\n",
       "    </tr>\n",
       "    <tr>\n",
       "      <th>25%</th>\n",
       "      <td>4.000000</td>\n",
       "      <td>45.000000</td>\n",
       "      <td>2.000000</td>\n",
       "      <td>1.000000</td>\n",
       "      <td>3.000000</td>\n",
       "      <td>0.000000</td>\n",
       "    </tr>\n",
       "    <tr>\n",
       "      <th>50%</th>\n",
       "      <td>4.000000</td>\n",
       "      <td>57.000000</td>\n",
       "      <td>3.000000</td>\n",
       "      <td>3.000000</td>\n",
       "      <td>3.000000</td>\n",
       "      <td>0.000000</td>\n",
       "    </tr>\n",
       "    <tr>\n",
       "      <th>75%</th>\n",
       "      <td>5.000000</td>\n",
       "      <td>66.000000</td>\n",
       "      <td>4.000000</td>\n",
       "      <td>4.000000</td>\n",
       "      <td>3.000000</td>\n",
       "      <td>1.000000</td>\n",
       "    </tr>\n",
       "    <tr>\n",
       "      <th>max</th>\n",
       "      <td>55.000000</td>\n",
       "      <td>96.000000</td>\n",
       "      <td>4.000000</td>\n",
       "      <td>5.000000</td>\n",
       "      <td>4.000000</td>\n",
       "      <td>1.000000</td>\n",
       "    </tr>\n",
       "  </tbody>\n",
       "</table>\n",
       "</div>"
      ],
      "text/plain": [
       "          BI-RADS         age       shape      margin     density    severity\n",
       "count  959.000000  956.000000  930.000000  913.000000  885.000000  961.000000\n",
       "mean     4.348279   55.487448    2.721505    2.796276    2.910734    0.463059\n",
       "std      1.783031   14.480131    1.242792    1.566546    0.380444    0.498893\n",
       "min      0.000000   18.000000    1.000000    1.000000    1.000000    0.000000\n",
       "25%      4.000000   45.000000    2.000000    1.000000    3.000000    0.000000\n",
       "50%      4.000000   57.000000    3.000000    3.000000    3.000000    0.000000\n",
       "75%      5.000000   66.000000    4.000000    4.000000    3.000000    1.000000\n",
       "max     55.000000   96.000000    4.000000    5.000000    4.000000    1.000000"
      ]
     },
     "execution_count": 4,
     "metadata": {},
     "output_type": "execute_result"
    }
   ],
   "source": [
    "mass.describe()"
   ]
  },
  {
   "cell_type": "code",
   "execution_count": 5,
   "metadata": {},
   "outputs": [
    {
     "data": {
      "text/html": [
       "<div>\n",
       "<style scoped>\n",
       "    .dataframe tbody tr th:only-of-type {\n",
       "        vertical-align: middle;\n",
       "    }\n",
       "\n",
       "    .dataframe tbody tr th {\n",
       "        vertical-align: top;\n",
       "    }\n",
       "\n",
       "    .dataframe thead th {\n",
       "        text-align: right;\n",
       "    }\n",
       "</style>\n",
       "<table border=\"1\" class=\"dataframe\">\n",
       "  <thead>\n",
       "    <tr style=\"text-align: right;\">\n",
       "      <th></th>\n",
       "      <th>BI-RADS</th>\n",
       "      <th>age</th>\n",
       "      <th>shape</th>\n",
       "      <th>margin</th>\n",
       "      <th>density</th>\n",
       "      <th>severity</th>\n",
       "    </tr>\n",
       "  </thead>\n",
       "  <tbody>\n",
       "    <tr>\n",
       "      <th>1</th>\n",
       "      <td>4.0</td>\n",
       "      <td>43.0</td>\n",
       "      <td>1.0</td>\n",
       "      <td>1.0</td>\n",
       "      <td>NaN</td>\n",
       "      <td>1</td>\n",
       "    </tr>\n",
       "    <tr>\n",
       "      <th>4</th>\n",
       "      <td>5.0</td>\n",
       "      <td>74.0</td>\n",
       "      <td>1.0</td>\n",
       "      <td>5.0</td>\n",
       "      <td>NaN</td>\n",
       "      <td>1</td>\n",
       "    </tr>\n",
       "    <tr>\n",
       "      <th>5</th>\n",
       "      <td>4.0</td>\n",
       "      <td>65.0</td>\n",
       "      <td>1.0</td>\n",
       "      <td>NaN</td>\n",
       "      <td>3.0</td>\n",
       "      <td>0</td>\n",
       "    </tr>\n",
       "    <tr>\n",
       "      <th>6</th>\n",
       "      <td>4.0</td>\n",
       "      <td>70.0</td>\n",
       "      <td>NaN</td>\n",
       "      <td>NaN</td>\n",
       "      <td>3.0</td>\n",
       "      <td>0</td>\n",
       "    </tr>\n",
       "    <tr>\n",
       "      <th>7</th>\n",
       "      <td>5.0</td>\n",
       "      <td>42.0</td>\n",
       "      <td>1.0</td>\n",
       "      <td>NaN</td>\n",
       "      <td>3.0</td>\n",
       "      <td>0</td>\n",
       "    </tr>\n",
       "    <tr>\n",
       "      <th>...</th>\n",
       "      <td>...</td>\n",
       "      <td>...</td>\n",
       "      <td>...</td>\n",
       "      <td>...</td>\n",
       "      <td>...</td>\n",
       "      <td>...</td>\n",
       "    </tr>\n",
       "    <tr>\n",
       "      <th>778</th>\n",
       "      <td>4.0</td>\n",
       "      <td>60.0</td>\n",
       "      <td>NaN</td>\n",
       "      <td>4.0</td>\n",
       "      <td>3.0</td>\n",
       "      <td>0</td>\n",
       "    </tr>\n",
       "    <tr>\n",
       "      <th>819</th>\n",
       "      <td>4.0</td>\n",
       "      <td>35.0</td>\n",
       "      <td>3.0</td>\n",
       "      <td>NaN</td>\n",
       "      <td>2.0</td>\n",
       "      <td>0</td>\n",
       "    </tr>\n",
       "    <tr>\n",
       "      <th>824</th>\n",
       "      <td>6.0</td>\n",
       "      <td>40.0</td>\n",
       "      <td>NaN</td>\n",
       "      <td>3.0</td>\n",
       "      <td>4.0</td>\n",
       "      <td>1</td>\n",
       "    </tr>\n",
       "    <tr>\n",
       "      <th>884</th>\n",
       "      <td>5.0</td>\n",
       "      <td>NaN</td>\n",
       "      <td>4.0</td>\n",
       "      <td>4.0</td>\n",
       "      <td>3.0</td>\n",
       "      <td>1</td>\n",
       "    </tr>\n",
       "    <tr>\n",
       "      <th>923</th>\n",
       "      <td>5.0</td>\n",
       "      <td>NaN</td>\n",
       "      <td>4.0</td>\n",
       "      <td>3.0</td>\n",
       "      <td>3.0</td>\n",
       "      <td>1</td>\n",
       "    </tr>\n",
       "  </tbody>\n",
       "</table>\n",
       "<p>130 rows × 6 columns</p>\n",
       "</div>"
      ],
      "text/plain": [
       "     BI-RADS   age  shape  margin  density  severity\n",
       "1        4.0  43.0    1.0     1.0      NaN         1\n",
       "4        5.0  74.0    1.0     5.0      NaN         1\n",
       "5        4.0  65.0    1.0     NaN      3.0         0\n",
       "6        4.0  70.0    NaN     NaN      3.0         0\n",
       "7        5.0  42.0    1.0     NaN      3.0         0\n",
       "..       ...   ...    ...     ...      ...       ...\n",
       "778      4.0  60.0    NaN     4.0      3.0         0\n",
       "819      4.0  35.0    3.0     NaN      2.0         0\n",
       "824      6.0  40.0    NaN     3.0      4.0         1\n",
       "884      5.0   NaN    4.0     4.0      3.0         1\n",
       "923      5.0   NaN    4.0     3.0      3.0         1\n",
       "\n",
       "[130 rows x 6 columns]"
      ]
     },
     "execution_count": 5,
     "metadata": {},
     "output_type": "execute_result"
    }
   ],
   "source": [
    "# Identify the Null Rows NB: BI-RADS is not a part of features\n",
    "\n",
    "mass[mass['age'].isnull()|mass['shape'].isnull()|mass['margin'].isnull()|mass['density'].isnull()]"
   ]
  },
  {
   "cell_type": "code",
   "execution_count": 6,
   "metadata": {},
   "outputs": [],
   "source": [
    "mass.dropna(inplace = True) # Droping the Null Rows"
   ]
  },
  {
   "cell_type": "code",
   "execution_count": 7,
   "metadata": {},
   "outputs": [
    {
     "data": {
      "text/html": [
       "<div>\n",
       "<style scoped>\n",
       "    .dataframe tbody tr th:only-of-type {\n",
       "        vertical-align: middle;\n",
       "    }\n",
       "\n",
       "    .dataframe tbody tr th {\n",
       "        vertical-align: top;\n",
       "    }\n",
       "\n",
       "    .dataframe thead th {\n",
       "        text-align: right;\n",
       "    }\n",
       "</style>\n",
       "<table border=\"1\" class=\"dataframe\">\n",
       "  <thead>\n",
       "    <tr style=\"text-align: right;\">\n",
       "      <th></th>\n",
       "      <th>BI-RADS</th>\n",
       "      <th>age</th>\n",
       "      <th>shape</th>\n",
       "      <th>margin</th>\n",
       "      <th>density</th>\n",
       "      <th>severity</th>\n",
       "    </tr>\n",
       "  </thead>\n",
       "  <tbody>\n",
       "    <tr>\n",
       "      <th>count</th>\n",
       "      <td>830.000000</td>\n",
       "      <td>830.000000</td>\n",
       "      <td>830.000000</td>\n",
       "      <td>830.000000</td>\n",
       "      <td>830.000000</td>\n",
       "      <td>830.000000</td>\n",
       "    </tr>\n",
       "    <tr>\n",
       "      <th>mean</th>\n",
       "      <td>4.393976</td>\n",
       "      <td>55.781928</td>\n",
       "      <td>2.781928</td>\n",
       "      <td>2.813253</td>\n",
       "      <td>2.915663</td>\n",
       "      <td>0.485542</td>\n",
       "    </tr>\n",
       "    <tr>\n",
       "      <th>std</th>\n",
       "      <td>1.888371</td>\n",
       "      <td>14.671782</td>\n",
       "      <td>1.242361</td>\n",
       "      <td>1.567175</td>\n",
       "      <td>0.350936</td>\n",
       "      <td>0.500092</td>\n",
       "    </tr>\n",
       "    <tr>\n",
       "      <th>min</th>\n",
       "      <td>0.000000</td>\n",
       "      <td>18.000000</td>\n",
       "      <td>1.000000</td>\n",
       "      <td>1.000000</td>\n",
       "      <td>1.000000</td>\n",
       "      <td>0.000000</td>\n",
       "    </tr>\n",
       "    <tr>\n",
       "      <th>25%</th>\n",
       "      <td>4.000000</td>\n",
       "      <td>46.000000</td>\n",
       "      <td>2.000000</td>\n",
       "      <td>1.000000</td>\n",
       "      <td>3.000000</td>\n",
       "      <td>0.000000</td>\n",
       "    </tr>\n",
       "    <tr>\n",
       "      <th>50%</th>\n",
       "      <td>4.000000</td>\n",
       "      <td>57.000000</td>\n",
       "      <td>3.000000</td>\n",
       "      <td>3.000000</td>\n",
       "      <td>3.000000</td>\n",
       "      <td>0.000000</td>\n",
       "    </tr>\n",
       "    <tr>\n",
       "      <th>75%</th>\n",
       "      <td>5.000000</td>\n",
       "      <td>66.000000</td>\n",
       "      <td>4.000000</td>\n",
       "      <td>4.000000</td>\n",
       "      <td>3.000000</td>\n",
       "      <td>1.000000</td>\n",
       "    </tr>\n",
       "    <tr>\n",
       "      <th>max</th>\n",
       "      <td>55.000000</td>\n",
       "      <td>96.000000</td>\n",
       "      <td>4.000000</td>\n",
       "      <td>5.000000</td>\n",
       "      <td>4.000000</td>\n",
       "      <td>1.000000</td>\n",
       "    </tr>\n",
       "  </tbody>\n",
       "</table>\n",
       "</div>"
      ],
      "text/plain": [
       "          BI-RADS         age       shape      margin     density    severity\n",
       "count  830.000000  830.000000  830.000000  830.000000  830.000000  830.000000\n",
       "mean     4.393976   55.781928    2.781928    2.813253    2.915663    0.485542\n",
       "std      1.888371   14.671782    1.242361    1.567175    0.350936    0.500092\n",
       "min      0.000000   18.000000    1.000000    1.000000    1.000000    0.000000\n",
       "25%      4.000000   46.000000    2.000000    1.000000    3.000000    0.000000\n",
       "50%      4.000000   57.000000    3.000000    3.000000    3.000000    0.000000\n",
       "75%      5.000000   66.000000    4.000000    4.000000    3.000000    1.000000\n",
       "max     55.000000   96.000000    4.000000    5.000000    4.000000    1.000000"
      ]
     },
     "execution_count": 7,
     "metadata": {},
     "output_type": "execute_result"
    }
   ],
   "source": [
    "mass.describe() # All the rows have data inputs"
   ]
  },
  {
   "cell_type": "code",
   "execution_count": 8,
   "metadata": {},
   "outputs": [],
   "source": [
    "features = mass[['age','shape','margin','density']].values # Input Data\n",
    "label = mass[['severity']].values                          # Output Data"
   ]
  },
  {
   "cell_type": "code",
   "execution_count": 9,
   "metadata": {},
   "outputs": [
    {
     "data": {
      "text/plain": [
       "(830, 4)"
      ]
     },
     "execution_count": 9,
     "metadata": {},
     "output_type": "execute_result"
    }
   ],
   "source": [
    "features.shape     # Dimension of the input data"
   ]
  },
  {
   "cell_type": "code",
   "execution_count": 10,
   "metadata": {},
   "outputs": [
    {
     "data": {
      "text/plain": [
       "(830, 1)"
      ]
     },
     "execution_count": 10,
     "metadata": {},
     "output_type": "execute_result"
    }
   ],
   "source": [
    "label.shape       # Dimension of the output data"
   ]
  },
  {
   "cell_type": "code",
   "execution_count": 11,
   "metadata": {},
   "outputs": [],
   "source": [
    "label = label.ravel() # convert to 1d Array"
   ]
  },
  {
   "cell_type": "code",
   "execution_count": 12,
   "metadata": {},
   "outputs": [],
   "source": [
    "from sklearn.preprocessing import StandardScaler,MinMaxScaler # Scaling the input data\n",
    "features = MinMaxScaler().fit_transform(features)"
   ]
  },
  {
   "cell_type": "markdown",
   "metadata": {},
   "source": [
    "## Model Evaluation Section - ML"
   ]
  },
  {
   "cell_type": "code",
   "execution_count": 13,
   "metadata": {},
   "outputs": [],
   "source": [
    "from sklearn.metrics import classification_report\n",
    "from sklearn.model_selection import train_test_split # For Training and Test set classifications\n",
    "\n",
    "X_train,X_test,y_train,y_test =  train_test_split(features,label, test_size = 0.1, random_state = 0)"
   ]
  },
  {
   "cell_type": "code",
   "execution_count": 14,
   "metadata": {},
   "outputs": [],
   "source": [
    "# Naive Bayes\n",
    "\n",
    "from sklearn.naive_bayes import GaussianNB,MultinomialNB\n",
    "from sklearn.model_selection import cross_val_score\n"
   ]
  },
  {
   "cell_type": "code",
   "execution_count": 15,
   "metadata": {},
   "outputs": [
    {
     "name": "stdout",
     "output_type": "stream",
     "text": [
      "              precision    recall  f1-score   support\n",
      "\n",
      "           0       0.87      0.73      0.80        45\n",
      "           1       0.73      0.87      0.80        38\n",
      "\n",
      "    accuracy                           0.80        83\n",
      "   macro avg       0.80      0.80      0.80        83\n",
      "weighted avg       0.81      0.80      0.80        83\n",
      "\n"
     ]
    }
   ],
   "source": [
    "model_G = GaussianNB()\n",
    "model_G.fit(X_train,y_train)\n",
    "y_pred = model_G.predict(X_test)\n",
    "\n",
    "# Summary of the prediction made by the classifier\n",
    "print(classification_report(y_test,y_pred))\n"
   ]
  },
  {
   "cell_type": "code",
   "execution_count": 16,
   "metadata": {},
   "outputs": [
    {
     "name": "stdout",
     "output_type": "stream",
     "text": [
      "              precision    recall  f1-score   support\n",
      "\n",
      "           0       0.85      0.76      0.80        45\n",
      "           1       0.74      0.84      0.79        38\n",
      "\n",
      "    accuracy                           0.80        83\n",
      "   macro avg       0.80      0.80      0.80        83\n",
      "weighted avg       0.80      0.80      0.80        83\n",
      "\n"
     ]
    }
   ],
   "source": [
    "model_M = MultinomialNB()\n",
    "\n",
    "model_M.fit(X_train,y_train)\n",
    "y_pred = model_M.predict(X_test)\n",
    "\n",
    "# Summary of the prediction made by the classifier\n",
    "print(classification_report(y_test,y_pred))"
   ]
  },
  {
   "cell_type": "code",
   "execution_count": 17,
   "metadata": {},
   "outputs": [
    {
     "name": "stdout",
     "output_type": "stream",
     "text": [
      "              precision    recall  f1-score   support\n",
      "\n",
      "           0       0.91      0.71      0.80        45\n",
      "           1       0.73      0.92      0.81        38\n",
      "\n",
      "    accuracy                           0.81        83\n",
      "   macro avg       0.82      0.82      0.81        83\n",
      "weighted avg       0.83      0.81      0.81        83\n",
      "\n"
     ]
    }
   ],
   "source": [
    "from sklearn.svm import SVC\n",
    "#SVC().get_params()\n",
    "model_s_l = SVC(kernel='linear', C=0.01) # Linear function\n",
    "\n",
    "\n",
    "model_s_l.fit(X_train,y_train)\n",
    "y_pred = model_s_l.predict(X_test)\n",
    "\n",
    "# Summary of the prediction made by the classifier\n",
    "print(classification_report(y_test,y_pred))"
   ]
  },
  {
   "cell_type": "code",
   "execution_count": 18,
   "metadata": {},
   "outputs": [
    {
     "name": "stdout",
     "output_type": "stream",
     "text": [
      "              precision    recall  f1-score   support\n",
      "\n",
      "           0       0.50      0.76      0.60        45\n",
      "           1       0.27      0.11      0.15        38\n",
      "\n",
      "    accuracy                           0.46        83\n",
      "   macro avg       0.38      0.43      0.38        83\n",
      "weighted avg       0.39      0.46      0.40        83\n",
      "\n"
     ]
    }
   ],
   "source": [
    "# Sigmoid Function, SVC\n",
    "model_s_s = SVC(kernel='sigmoid', C=0.1) \n",
    "model_s_s.fit(X_train,y_train)\n",
    "y_pred = model_s_s.predict(X_test)\n",
    "\n",
    "# Summary of the prediction made by the classifier\n",
    "print(classification_report(y_test,y_pred))"
   ]
  },
  {
   "cell_type": "code",
   "execution_count": 19,
   "metadata": {},
   "outputs": [
    {
     "name": "stdout",
     "output_type": "stream",
     "text": [
      "              precision    recall  f1-score   support\n",
      "\n",
      "           0       0.88      0.82      0.85        45\n",
      "           1       0.80      0.87      0.84        38\n",
      "\n",
      "    accuracy                           0.84        83\n",
      "   macro avg       0.84      0.85      0.84        83\n",
      "weighted avg       0.85      0.84      0.84        83\n",
      "\n"
     ]
    }
   ],
   "source": [
    "# Polynomial Function, SVC\n",
    "model_s_p = SVC(kernel='poly', C=0.1)\n",
    "model_s_p.fit(X_train,y_train)\n",
    "y_pred =model_s_p.predict(X_test)\n",
    "\n",
    "# Summary of the prediction made by the classifier\n",
    "print(classification_report(y_test,y_pred))"
   ]
  },
  {
   "cell_type": "code",
   "execution_count": 20,
   "metadata": {},
   "outputs": [
    {
     "name": "stdout",
     "output_type": "stream",
     "text": [
      "              precision    recall  f1-score   support\n",
      "\n",
      "           0       0.87      0.76      0.81        45\n",
      "           1       0.75      0.87      0.80        38\n",
      "\n",
      "    accuracy                           0.81        83\n",
      "   macro avg       0.81      0.81      0.81        83\n",
      "weighted avg       0.82      0.81      0.81        83\n",
      "\n"
     ]
    }
   ],
   "source": [
    "# rbf Function, SVC\n",
    "model_s_r = SVC(kernel='rbf',C=1)\n",
    "model_s_r.fit(X_train,y_train)\n",
    "y_pred =model_s_r.predict(X_test)\n",
    "\n",
    "# Summary of the prediction made by the classifier\n",
    "print(classification_report(y_test,y_pred))"
   ]
  },
  {
   "cell_type": "code",
   "execution_count": 21,
   "metadata": {},
   "outputs": [
    {
     "name": "stdout",
     "output_type": "stream",
     "text": [
      "              precision    recall  f1-score   support\n",
      "\n",
      "           0       0.85      0.78      0.81        45\n",
      "           1       0.76      0.84      0.80        38\n",
      "\n",
      "    accuracy                           0.81        83\n",
      "   macro avg       0.81      0.81      0.81        83\n",
      "weighted avg       0.81      0.81      0.81        83\n",
      "\n"
     ]
    }
   ],
   "source": [
    "# Logistic Regression\n",
    "\n",
    "from sklearn.linear_model import LogisticRegression\n",
    "model_lr = LogisticRegression(C=0.1)\n",
    "model_lr.fit(X_train,y_train)\n",
    "y_pred =model_lr.predict(X_test)\n",
    "\n",
    "# Summary of the prediction made by the classifier\n",
    "print(classification_report(y_test,y_pred))"
   ]
  },
  {
   "cell_type": "code",
   "execution_count": 22,
   "metadata": {},
   "outputs": [
    {
     "name": "stdout",
     "output_type": "stream",
     "text": [
      "              precision    recall  f1-score   support\n",
      "\n",
      "           0       0.80      0.73      0.77        45\n",
      "           1       0.71      0.79      0.75        38\n",
      "\n",
      "    accuracy                           0.76        83\n",
      "   macro avg       0.76      0.76      0.76        83\n",
      "weighted avg       0.76      0.76      0.76        83\n",
      "\n"
     ]
    }
   ],
   "source": [
    "from sklearn.tree import DecisionTreeClassifier\n",
    "model_dec = DecisionTreeClassifier(max_depth = 5)\n",
    "model_dec.fit(X_train,y_train)\n",
    "y_pred =model_dec.predict(X_test)\n",
    "\n",
    "# Summary of the prediction made by the classifier\n",
    "print(classification_report(y_test,y_pred))"
   ]
  },
  {
   "cell_type": "code",
   "execution_count": 23,
   "metadata": {},
   "outputs": [
    {
     "name": "stdout",
     "output_type": "stream",
     "text": [
      "              precision    recall  f1-score   support\n",
      "\n",
      "           0       0.85      0.73      0.79        45\n",
      "           1       0.73      0.84      0.78        38\n",
      "\n",
      "    accuracy                           0.78        83\n",
      "   macro avg       0.79      0.79      0.78        83\n",
      "weighted avg       0.79      0.78      0.78        83\n",
      "\n"
     ]
    }
   ],
   "source": [
    "from sklearn.ensemble import RandomForestClassifier\n",
    "model_rand = RandomForestClassifier(n_estimators = 10, max_depth = 5)\n",
    "model_rand .fit(X_train,y_train)\n",
    "y_pred =model_rand .predict(X_test)\n",
    "\n",
    "# Summary of the prediction made by the classifier\n",
    "print(classification_report(y_test,y_pred))"
   ]
  },
  {
   "cell_type": "code",
   "execution_count": 24,
   "metadata": {},
   "outputs": [
    {
     "name": "stdout",
     "output_type": "stream",
     "text": [
      "              precision    recall  f1-score   support\n",
      "\n",
      "           0       0.87      0.76      0.81        45\n",
      "           1       0.75      0.87      0.80        38\n",
      "\n",
      "    accuracy                           0.81        83\n",
      "   macro avg       0.81      0.81      0.81        83\n",
      "weighted avg       0.82      0.81      0.81        83\n",
      "\n"
     ]
    }
   ],
   "source": [
    "# KNN\n",
    "\n",
    "from sklearn.neighbors import KNeighborsClassifier\n",
    "model_knn = KNeighborsClassifier(n_neighbors = 8)\n",
    "model_knn .fit(X_train,y_train)\n",
    "y_pred =model_knn .predict(X_test)\n",
    "\n",
    "# Summary of the prediction made by the classifier\n",
    "print(classification_report(y_test,y_pred))"
   ]
  },
  {
   "cell_type": "code",
   "execution_count": 25,
   "metadata": {},
   "outputs": [
    {
     "name": "stdout",
     "output_type": "stream",
     "text": [
      "              precision    recall  f1-score   support\n",
      "\n",
      "           0       0.81      0.76      0.78        45\n",
      "           1       0.73      0.79      0.76        38\n",
      "\n",
      "    accuracy                           0.77        83\n",
      "   macro avg       0.77      0.77      0.77        83\n",
      "weighted avg       0.77      0.77      0.77        83\n",
      "\n"
     ]
    }
   ],
   "source": [
    "# Gradient boosting\n",
    "\n",
    "from sklearn.ensemble import GradientBoostingClassifier\n",
    "\n",
    "model_gb = GradientBoostingClassifier()\n",
    "model_gb.fit(X_train, y_train)\n",
    "y_pred = model_gb.predict(X_test)\n",
    "\n",
    "# Summary of the prediction made by the classifier\n",
    "print(classification_report(y_test,y_pred))"
   ]
  },
  {
   "cell_type": "code",
   "execution_count": 26,
   "metadata": {
    "scrolled": true
   },
   "outputs": [
    {
     "data": {
      "text/html": [
       "<div>\n",
       "<style scoped>\n",
       "    .dataframe tbody tr th:only-of-type {\n",
       "        vertical-align: middle;\n",
       "    }\n",
       "\n",
       "    .dataframe tbody tr th {\n",
       "        vertical-align: top;\n",
       "    }\n",
       "\n",
       "    .dataframe thead th {\n",
       "        text-align: right;\n",
       "    }\n",
       "</style>\n",
       "<table border=\"1\" class=\"dataframe\">\n",
       "  <thead>\n",
       "    <tr style=\"text-align: right;\">\n",
       "      <th></th>\n",
       "      <th>Classifier Name</th>\n",
       "      <th>Accuracy</th>\n",
       "    </tr>\n",
       "  </thead>\n",
       "  <tbody>\n",
       "    <tr>\n",
       "      <th>0</th>\n",
       "      <td>SVC(C=0.1, kernel='poly')</td>\n",
       "      <td>84.337349</td>\n",
       "    </tr>\n",
       "    <tr>\n",
       "      <th>1</th>\n",
       "      <td>SVC(C=0.01, kernel='linear')</td>\n",
       "      <td>80.722892</td>\n",
       "    </tr>\n",
       "    <tr>\n",
       "      <th>2</th>\n",
       "      <td>SVC(C=1)</td>\n",
       "      <td>80.722892</td>\n",
       "    </tr>\n",
       "    <tr>\n",
       "      <th>3</th>\n",
       "      <td>LogisticRegression(C=0.1)</td>\n",
       "      <td>80.722892</td>\n",
       "    </tr>\n",
       "    <tr>\n",
       "      <th>4</th>\n",
       "      <td>KNeighborsClassifier(n_neighbors=8)</td>\n",
       "      <td>80.722892</td>\n",
       "    </tr>\n",
       "    <tr>\n",
       "      <th>5</th>\n",
       "      <td>GaussianNB()</td>\n",
       "      <td>79.518072</td>\n",
       "    </tr>\n",
       "    <tr>\n",
       "      <th>6</th>\n",
       "      <td>MultinomialNB()</td>\n",
       "      <td>79.518072</td>\n",
       "    </tr>\n",
       "    <tr>\n",
       "      <th>7</th>\n",
       "      <td>GradientBoostingClassifier()</td>\n",
       "      <td>77.108434</td>\n",
       "    </tr>\n",
       "    <tr>\n",
       "      <th>8</th>\n",
       "      <td>DecisionTreeClassifier(max_depth=5)</td>\n",
       "      <td>75.903614</td>\n",
       "    </tr>\n",
       "    <tr>\n",
       "      <th>9</th>\n",
       "      <td>SVC(C=0.1, kernel='sigmoid')</td>\n",
       "      <td>45.783133</td>\n",
       "    </tr>\n",
       "  </tbody>\n",
       "</table>\n",
       "</div>"
      ],
      "text/plain": [
       "                       Classifier Name   Accuracy\n",
       "0            SVC(C=0.1, kernel='poly')  84.337349\n",
       "1         SVC(C=0.01, kernel='linear')  80.722892\n",
       "2                             SVC(C=1)  80.722892\n",
       "3            LogisticRegression(C=0.1)  80.722892\n",
       "4  KNeighborsClassifier(n_neighbors=8)  80.722892\n",
       "5                         GaussianNB()  79.518072\n",
       "6                      MultinomialNB()  79.518072\n",
       "7         GradientBoostingClassifier()  77.108434\n",
       "8  DecisionTreeClassifier(max_depth=5)  75.903614\n",
       "9         SVC(C=0.1, kernel='sigmoid')  45.783133"
      ]
     },
     "execution_count": 26,
     "metadata": {},
     "output_type": "execute_result"
    }
   ],
   "source": [
    "from sklearn.metrics import accuracy_score\n",
    "classifiers = [\n",
    "    GaussianNB(),\n",
    "    MultinomialNB(),\n",
    "    SVC(kernel='linear', C=0.01),\n",
    "    SVC(kernel='sigmoid', C=0.1),\n",
    "    SVC(kernel='poly', C=0.1),\n",
    "    SVC(kernel='rbf',C=1),\n",
    "    LogisticRegression(C=0.1),\n",
    "    DecisionTreeClassifier(max_depth = 5),\n",
    "    KNeighborsClassifier(n_neighbors = 8),\n",
    "    GradientBoostingClassifier()\n",
    "                  ]\n",
    " \n",
    "logs = np.empty((len(classifiers),2), dtype = list)\n",
    "# Logging data in a dataframe\n",
    "log_cols=[\"Classifier Name\", \"Accuracy\"]\n",
    "log = pd.DataFrame(columns=log_cols)\n",
    "\n",
    "for clf in classifiers:\n",
    "    clf.fit(X_train, y_train)\n",
    "    train_predictions = clf.predict(X_test)\n",
    "    acc = accuracy_score(y_test, train_predictions)\n",
    "    log_entry = pd.DataFrame([[str(clf), acc*100]], columns=log_cols)\n",
    "    log = log.append(log_entry)\n",
    "\n",
    "\n",
    "log.reset_index(drop = True,inplace = True)\n",
    "log = log.sort_values('Accuracy', ascending = False, ignore_index = True)\n",
    "log"
   ]
  },
  {
   "cell_type": "markdown",
   "metadata": {},
   "source": [
    "## ML Conclusion"
   ]
  },
  {
   "cell_type": "markdown",
   "metadata": {},
   "source": [
    "Six different algorithms were deployed inorder to classify the level of severity for the mammogram mass. The highest accuracy obtained was 0.84/1.0 using SVM with a regularization of 0.1 and polynomial function as a kernel function. "
   ]
  },
  {
   "cell_type": "markdown",
   "metadata": {},
   "source": [
    "# NEURAL NETWORK SECTION"
   ]
  },
  {
   "cell_type": "markdown",
   "metadata": {},
   "source": [
    "In the second part of the task we used neural networks to predict if tumor is benign or malignant. The neural networks was created using 'keras' and 'tensorflow' libraries for python. This packages make it possible to train and evaluate the models effeciently thanks to easy data operating functions. In this work, we present four neural networks with different accuracy, structure and performance time.\n",
    "\n",
    "Firstly, we need to import all libraries and functions we want to work with. It should be noticed, that all training and evaluating operations in this work were performed using NVidia 1660Ti GPU-card to increase the overall efficiency of the system. Notice: running the code on CPU could be very time-consuming."
   ]
  },
  {
   "cell_type": "code",
   "execution_count": 27,
   "metadata": {},
   "outputs": [],
   "source": [
    "# importing the elements from keras, which we need to create a model\n",
    "from tensorflow.keras import layers, optimizers, regularizers\n",
    "from tensorflow.keras import models\n",
    "\n",
    "from tensorflow.keras.utils import to_categorical\n",
    "\n",
    "\n",
    "# tensorflow itself is implemented to allow perform operations using GPU-Card\n",
    "import tensorflow as tf\n",
    "#physical_devices = tf.config.list_physical_devices('GPU') \n",
    "# allow the programm to use all memory of GPU\n",
    "#tf.config.experimental.set_memory_growth(physical_devices[0], True)"
   ]
  },
  {
   "cell_type": "code",
   "execution_count": 28,
   "metadata": {},
   "outputs": [
    {
     "data": {
      "text/plain": [
       "array([1, 1, 0, 1, 1, 1, 0, 0, 0, 0, 1, 1, 1, 1, 1, 1, 1, 0, 0, 1, 1, 0,\n",
       "       0, 0, 1, 0, 0, 0, 1, 1, 1, 0, 1, 0, 1, 1, 0, 1, 0, 0, 0, 0, 1, 0,\n",
       "       1, 0, 1, 0, 1, 0, 0, 1, 1, 1, 1, 1, 1, 1, 1, 0, 0, 0, 0, 1, 0, 0,\n",
       "       0, 1, 0, 1, 0, 0, 0, 0, 1, 1, 1, 0, 1, 1, 1, 1, 0, 1, 1, 0, 0, 1,\n",
       "       1, 1, 0, 1, 1, 0, 0, 0, 0, 1, 0, 0, 0, 1, 1, 0, 1, 1, 0, 0, 0, 0,\n",
       "       1, 0, 0, 1, 0, 0, 0, 0, 1, 1, 1, 1, 0, 1, 0, 1, 0, 1, 0, 1, 0, 0,\n",
       "       0, 0, 1, 0, 0, 1, 0, 1, 0, 0, 1, 1, 0, 0, 0, 0, 0, 0, 1, 1, 1, 0,\n",
       "       1, 0, 0, 0, 1, 1, 0, 1, 0, 0, 1, 0, 1, 0, 0, 0, 1, 0, 0, 1, 0, 0,\n",
       "       0, 1, 0, 1, 1, 1, 1, 1, 1, 1, 0, 0, 1, 0, 1, 0, 1, 1, 1, 1, 1, 0,\n",
       "       1, 0, 1, 0, 1, 0, 0, 1, 1, 0, 0, 1, 0, 1, 0, 1, 1, 0, 1, 0, 1, 1,\n",
       "       1, 0, 0, 0, 0, 0, 0, 0, 0, 1, 1, 1, 1, 0, 0, 0, 0, 1, 1, 1, 0, 1,\n",
       "       0, 0, 0, 0, 1, 1, 1, 0, 1, 1, 0, 1, 1, 1, 1, 1, 1, 0, 0, 0, 1, 0,\n",
       "       1, 0, 0, 1, 0, 0, 1, 0, 0, 1, 1, 1, 1, 0, 1, 0, 0, 0, 1, 1, 1, 1,\n",
       "       0, 1, 0, 1, 0, 1, 0, 1, 1, 0, 0, 1, 0, 1, 1, 0, 0, 1, 1, 0, 0, 1,\n",
       "       0, 1, 0, 1, 1, 1, 1, 0, 0, 1, 0, 1, 0, 1, 1, 1, 0, 1, 1, 1, 1, 0,\n",
       "       0, 1, 0, 1, 0, 1, 1, 0, 1, 0, 1, 1, 1, 1, 1, 0, 1, 1, 1, 0, 1, 1,\n",
       "       0, 0, 1, 1, 1, 0, 0, 0, 1, 1, 1, 0, 1, 0, 0, 1, 1, 0, 1, 0, 1, 0,\n",
       "       0, 0, 0, 0, 1, 0, 1, 0, 0, 0, 0, 0, 0, 1, 1, 0, 1, 1, 1, 1, 1, 0,\n",
       "       0, 1, 0, 0, 0, 0, 0, 1, 1, 1, 1, 0, 0, 1, 1, 1, 0, 0, 1, 0, 1, 0,\n",
       "       0, 1, 1, 1, 0, 1, 0, 0, 0, 0, 1, 0, 1, 0, 0, 0, 1, 1, 0, 0, 1, 1,\n",
       "       1, 1, 0, 0, 0, 0, 0, 1, 0, 1, 1, 0, 0, 1, 1, 0, 0, 0, 0, 0, 0, 0,\n",
       "       1, 0, 0, 1, 0, 0, 0, 1, 0, 0, 0, 0, 1, 1, 0, 1, 1, 0, 0, 0, 1, 0,\n",
       "       1, 1, 0, 1, 1, 1, 0, 1, 1, 0, 0, 1, 1, 1, 0, 1, 0, 1, 0, 1, 0, 0,\n",
       "       0, 0, 1, 1, 0, 1, 0, 0, 0, 0, 0, 1, 0, 1, 0, 0, 0, 1, 1, 0, 1, 0,\n",
       "       0, 0, 1, 0, 0, 1, 0, 1, 0, 1, 0, 1, 1, 0, 0, 1, 1, 1, 0, 0, 1, 0,\n",
       "       1, 1, 1, 1, 1, 1, 1, 1, 0, 0, 0, 0, 1, 1, 1, 1, 1, 1, 0, 1, 1, 0,\n",
       "       0, 0, 1, 0, 1, 1, 1, 0, 1, 0, 1, 0, 0, 1, 0, 0, 0, 1, 1, 0, 0, 0,\n",
       "       1, 1, 0, 0, 0, 1, 1, 0, 1, 1, 0, 0, 1, 1, 0, 0, 0, 0, 0, 1, 0, 0,\n",
       "       0, 0, 0, 0, 0, 1, 0, 1, 0, 0, 0, 1, 0, 0, 1, 1, 1, 1, 0, 1, 1, 1,\n",
       "       0, 1, 1, 0, 0, 1, 0, 0, 1, 0, 1, 0, 0, 0, 0, 0, 0, 1, 1, 0, 1, 0,\n",
       "       1, 1, 0, 0, 1, 1, 0, 0, 1, 1, 1, 0, 1, 1, 1, 0, 0, 0, 1, 1, 0, 1,\n",
       "       0, 1, 1, 1, 0, 1, 0, 0, 0, 0, 1, 0, 0, 1, 0, 1, 1, 0, 1, 1, 0, 1,\n",
       "       1, 0, 1, 0, 1, 0, 0, 0, 0, 1, 0, 0, 0, 0, 0, 1, 0, 0, 1, 0, 0, 1,\n",
       "       0, 1, 0, 1, 1, 1, 1, 1, 1, 1, 0, 1, 0, 0, 0, 1, 0, 1, 1, 0, 0, 0,\n",
       "       0, 1, 0, 1, 1, 0, 1, 1, 0, 1, 1, 1, 1, 1, 1, 0, 0, 1, 0, 1, 0, 1,\n",
       "       1, 1, 0, 1, 1, 0, 0, 1, 1, 0, 1, 0, 1, 0, 1, 0, 0, 1, 0, 0, 0, 1,\n",
       "       0, 1, 0, 1, 0, 1, 0, 0, 1, 0, 0, 0, 1, 0, 0, 0, 0, 1, 0, 1, 0, 1,\n",
       "       0, 0, 0, 1, 0, 1, 1, 1, 0, 0, 1, 0, 1, 0, 1, 0], dtype=int64)"
      ]
     },
     "execution_count": 28,
     "metadata": {},
     "output_type": "execute_result"
    }
   ],
   "source": [
    "#creating the numpy array of tumor nature\n",
    "mam_labels = mass['severity'].to_numpy()\n",
    "mam_labels"
   ]
  },
  {
   "cell_type": "code",
   "execution_count": 29,
   "metadata": {},
   "outputs": [
    {
     "data": {
      "text/plain": [
       "array([[67.,  3.,  5.,  3.],\n",
       "       [58.,  4.,  5.,  3.],\n",
       "       [28.,  1.,  1.,  3.],\n",
       "       ...,\n",
       "       [64.,  4.,  5.,  3.],\n",
       "       [66.,  4.,  5.,  3.],\n",
       "       [62.,  3.,  3.,  3.]])"
      ]
     },
     "execution_count": 29,
     "metadata": {},
     "output_type": "execute_result"
    }
   ],
   "source": [
    "#creating the array of features which are used to work with model\n",
    "mam_data = mass[['age','shape','margin','density']].to_numpy()\n",
    "mam_data"
   ]
  },
  {
   "cell_type": "markdown",
   "metadata": {},
   "source": [
    "It is strictly recommended to use the different data for training and evaluation of the network. Thus, the data is divided to 'train' and 'test' datasets. According to the data, we also classify labels."
   ]
  },
  {
   "cell_type": "code",
   "execution_count": 30,
   "metadata": {},
   "outputs": [
    {
     "data": {
      "text/plain": [
       "600"
      ]
     },
     "execution_count": 30,
     "metadata": {},
     "output_type": "execute_result"
    }
   ],
   "source": [
    "train_lbls = mam_labels[:600].astype('float32')\n",
    "len(train_lbls)"
   ]
  },
  {
   "cell_type": "code",
   "execution_count": 31,
   "metadata": {},
   "outputs": [
    {
     "data": {
      "text/plain": [
       "230"
      ]
     },
     "execution_count": 31,
     "metadata": {},
     "output_type": "execute_result"
    }
   ],
   "source": [
    "test_lbls = mam_labels[600:].astype('float32')\n",
    "len(test_lbls)"
   ]
  },
  {
   "cell_type": "code",
   "execution_count": 32,
   "metadata": {},
   "outputs": [
    {
     "data": {
      "text/plain": [
       "array([[67.,  3.,  5.,  3.],\n",
       "       [58.,  4.,  5.,  3.],\n",
       "       [28.,  1.,  1.,  3.],\n",
       "       ...,\n",
       "       [29.,  1.,  1.,  3.],\n",
       "       [53.,  2.,  1.,  3.],\n",
       "       [66.,  4.,  4.,  3.]], dtype=float32)"
      ]
     },
     "execution_count": 32,
     "metadata": {},
     "output_type": "execute_result"
    }
   ],
   "source": [
    "train_data = mam_data[:600].astype('float32')\n",
    "train_data"
   ]
  },
  {
   "cell_type": "code",
   "execution_count": 33,
   "metadata": {},
   "outputs": [
    {
     "data": {
      "text/plain": [
       "array([[76.,  4.,  4.,  3.],\n",
       "       [58.,  2.,  1.,  2.],\n",
       "       [96.,  3.,  4.,  3.],\n",
       "       [70.,  4.,  4.,  3.]], dtype=float32)"
      ]
     },
     "execution_count": 33,
     "metadata": {},
     "output_type": "execute_result"
    }
   ],
   "source": [
    "test_data = mam_data[600:].astype('float32')\n",
    "test_data[:5][:4]"
   ]
  },
  {
   "cell_type": "markdown",
   "metadata": {},
   "source": [
    "As clearly seen from the results, first 600 samples are used to train the model and the rest 230 - to evaluate it."
   ]
  },
  {
   "cell_type": "code",
   "execution_count": 34,
   "metadata": {},
   "outputs": [
    {
     "data": {
      "text/plain": [
       "array([[ 1.3624141 ,  0.94756025,  0.7107992 ,  0.21707252],\n",
       "       [ 0.14385739, -0.64275074, -1.1902983 , -2.6772258 ],\n",
       "       [ 2.716366  ,  0.15240476,  0.7107992 ,  0.21707252],\n",
       "       [ 0.95622855,  0.94756025,  0.7107992 ,  0.21707252],\n",
       "       [-1.4808849 , -0.64275074, -1.1902983 ,  0.21707252]],\n",
       "      dtype=float32)"
      ]
     },
     "execution_count": 34,
     "metadata": {},
     "output_type": "execute_result"
    }
   ],
   "source": [
    "''' Data Scaling'''\n",
    "# calculating the mean value of every feature\n",
    "mean = train_data.mean(axis=0)\n",
    "# substracting the mean from each value\n",
    "train_data -= mean\n",
    "# computing the standard deviation of every feature\n",
    "std = train_data.std(axis=0)\n",
    "# dividing each value to the standard deviation\n",
    "train_data /= std\n",
    "\n",
    "# same for test data\n",
    "test_data -= mean\n",
    "test_data /= std\n",
    "\n",
    "test_data[:5][:]"
   ]
  },
  {
   "cell_type": "markdown",
   "metadata": {},
   "source": [
    "As can be clearly seen from results, some values turned into negative, but the range of values is now more friendly to network. \n",
    "Since all data have appropriate format, networks could be tested.\n",
    "After making some investigations about architecture of neural networks, it was found, that for processing small datasets with features presented in numbers, the most efficient way is to use small number of Dense layers. In Keras 'Dense' layer all the neurons in a layer are connected to those in the next layer. Activation 'sigmoid' transform the value in a range from 0 to 1.\n",
    "For binary classification, the final output of the network should have the shape of one, represanting the final classification. Optimizers are used to minimize the losses in network. The most common and efficient one is 'RMSProp' which realizes the algorithm of gradient descent. Loss function 'binary_crossentropy' is most commonly used in binary classification and has a good precision when work with probabilities. To evaluate the accuracy of model we use 'accuracy' metrics, which represents how many samples were correctly recognized.\n",
    "It is important to use the part of data for validation as pre-testing. Using this samples allow us to understand the approximate accuracy of net. For our experiments, we use the part of train data as validating data on a training and fitting stage."
   ]
  },
  {
   "cell_type": "markdown",
   "metadata": {},
   "source": [
    "#### 1. Two-layers model\n",
    "For the first experiment, we tried to implement the simpliest network with only two layers for training. "
   ]
  },
  {
   "cell_type": "code",
   "execution_count": 35,
   "metadata": {},
   "outputs": [],
   "source": [
    "# training the model with two layers\n",
    "net_sig = models.Sequential()\n",
    "\n",
    "# creating the layers \n",
    "net_sig.add(layers.Dense(16, activation = 'sigmoid', input_shape = (4,)))\n",
    "net_sig.add(layers.Dense(1, activation = 'sigmoid'))\n",
    "\n",
    "# separating real training and validating data\n",
    "val_data = train_data[:200]\n",
    "part_train_data = train_data[200:]\n",
    "\n",
    "val_lbls = train_lbls[:200]\n",
    "part_train_lbls = train_lbls[200:]\n",
    "\n",
    "# compilation of model\n",
    "net_sig.compile(\n",
    "            optimizer = 'rmsprop',\n",
    "            loss = 'binary_crossentropy',\n",
    "            metrics = ['accuracy'])"
   ]
  },
  {
   "cell_type": "code",
   "execution_count": 54,
   "metadata": {},
   "outputs": [
    {
     "data": {
      "text/plain": [
       "array([1., 0., 0., 1., 1., 0., 0., 0., 0., 0., 0., 0., 1., 0., 0., 1., 0.,\n",
       "       0., 0., 1., 0., 0., 0., 0., 1., 1., 0., 1., 1., 0., 0., 0., 1., 0.,\n",
       "       1., 1., 0., 1., 1., 1., 0., 1., 1., 0., 0., 1., 1., 1., 0., 1., 0.,\n",
       "       1., 0., 1., 0., 0., 0., 0., 1., 1., 0., 1., 0., 0., 0., 0., 0., 1.,\n",
       "       0., 1., 0., 0., 0., 1., 1., 0., 1., 0., 0., 0., 1., 0., 0., 1., 0.,\n",
       "       1., 0., 1., 0., 1., 1., 0., 0., 1., 1., 1., 0., 0., 1., 0., 1., 1.,\n",
       "       1., 1., 1., 1., 1., 1., 0., 0., 0., 0., 1., 1., 1., 1., 1., 1., 0.,\n",
       "       1., 1., 0., 0., 0., 1., 0., 1., 1., 1., 0., 1., 0., 1., 0., 0., 1.,\n",
       "       0., 0., 0., 1., 1., 0., 0., 0., 1., 1., 0., 0., 0., 1.],\n",
       "      dtype=float32)"
      ]
     },
     "execution_count": 54,
     "metadata": {},
     "output_type": "execute_result"
    }
   ],
   "source": [
    "val_lbls"
   ]
  },
  {
   "cell_type": "markdown",
   "metadata": {},
   "source": [
    "With fitting of the model, it actually trains. Batch size indicates how much samples the network can process simultaneously. Epochs indicates the number of iterations network process all training data. Verbose hides intermediate results."
   ]
  },
  {
   "cell_type": "code",
   "execution_count": 36,
   "metadata": {},
   "outputs": [],
   "source": [
    "# history object maintains all information about accuracy and losses of both training and validating data\n",
    "history = net_sig.fit(\n",
    "                train_data,\n",
    "                train_lbls,\n",
    "                batch_size = 32,\n",
    "                epochs = 50,\n",
    "                verbose = 0,\n",
    "                validation_data = (val_data, val_lbls))"
   ]
  },
  {
   "cell_type": "code",
   "execution_count": 37,
   "metadata": {},
   "outputs": [
    {
     "data": {
      "text/plain": [
       "dict_keys(['loss', 'accuracy', 'val_loss', 'val_accuracy'])"
      ]
     },
     "execution_count": 37,
     "metadata": {},
     "output_type": "execute_result"
    }
   ],
   "source": [
    "# creating the dictionary of values\n",
    "history_dict = history.history\n",
    "history_dict.keys()"
   ]
  },
  {
   "cell_type": "markdown",
   "metadata": {},
   "source": [
    "To illustrate the results of training 'matplotlib' library is used. Here presented the data for losses and accuracy both for validation and training losses."
   ]
  },
  {
   "cell_type": "code",
   "execution_count": 38,
   "metadata": {},
   "outputs": [
    {
     "data": {
      "text/plain": [
       "<matplotlib.legend.Legend at 0x2a2a3c7b988>"
      ]
     },
     "execution_count": 38,
     "metadata": {},
     "output_type": "execute_result"
    },
    {
     "data": {
      "image/png": "[encoded data removed]",
      "text/plain": [
       "<Figure size 1080x360 with 2 Axes>"
      ]
     },
     "metadata": {
      "needs_background": "light"
     },
     "output_type": "display_data"
    },
    {
     "data": {
      "text/plain": [
       "<Figure size 720x360 with 0 Axes>"
      ]
     },
     "metadata": {},
     "output_type": "display_data"
    }
   ],
   "source": [
    "fig, (ax1, ax2) = plt.subplots(1, 2, figsize = (15,5))\n",
    "fig = plt.figure(figsize = (10,5))\n",
    "\n",
    "accur = history_dict['accuracy']\n",
    "val_accur = history_dict['val_accuracy']\n",
    "losses = history_dict['loss']\n",
    "val_losses = history_dict['val_loss']\n",
    "\n",
    "epochs = range(1, len(history_dict['accuracy']) + 1)\n",
    "\n",
    "ax1.plot(epochs, losses, 'r', label = 'Training losses')\n",
    "ax1.plot(epochs, val_losses, 'b', label = 'Validation losses')\n",
    "ax1.set_title('Training and validation losses')\n",
    "ax1.set_xlabel('Epochs')\n",
    "ax1.set_ylabel('Losses')\n",
    "ax1.legend()\n",
    "\n",
    "ax2.plot(epochs, accur, 'r', label = 'Training accuracy')\n",
    "ax2.plot(epochs, val_accur, 'b', label = 'Validation accuracy')\n",
    "ax2.set_title('Training and validation accuracy')\n",
    "ax2.set_xlabel('Epochs')\n",
    "ax2.set_ylabel('Accuracy')\n",
    "ax2.legend()"
   ]
  },
  {
   "cell_type": "markdown",
   "metadata": {},
   "source": [
    "As the result, after 50 epochs of training network reach the accuracy of about 82% and losses have the minimal value of about 0.42. The final step is evaluating the model by using the test data. The result of this evaluation illustrates the final accuracy of trained network."
   ]
  },
  {
   "cell_type": "code",
   "execution_count": 39,
   "metadata": {},
   "outputs": [
    {
     "name": "stdout",
     "output_type": "stream",
     "text": [
      "8/8 [==============================] - 0s 812us/step - loss: 0.4288 - accuracy: 0.8304\n"
     ]
    },
    {
     "data": {
      "text/plain": [
       "[0.4288356900215149, 0.8304347991943359]"
      ]
     },
     "execution_count": 39,
     "metadata": {},
     "output_type": "execute_result"
    }
   ],
   "source": [
    "# the network is trained without any validation samples\n",
    "net_sig.fit(train_data, train_lbls, epochs = 15, batch_size = 32, verbose = 0)\n",
    "# predicting the results\n",
    "result1 = net_sig.evaluate(test_data, test_lbls)\n",
    "result1"
   ]
  },
  {
   "cell_type": "markdown",
   "metadata": {},
   "source": [
    "Finally, the simpliest network prediction about tumor nature have the accuracy of about 83%."
   ]
  },
  {
   "cell_type": "markdown",
   "metadata": {},
   "source": [
    "#### 2. Three-layers model\n",
    "For the second try, the additional layer was added to the architecture of the model. Here the 'relu' activation type is used for input data of the layer. Such type of activation is recommended for models like this. 'Relu' (rectified linear unit) transform negative values into zero and guarantees non-linearity of data processing."
   ]
  },
  {
   "cell_type": "code",
   "execution_count": 40,
   "metadata": {},
   "outputs": [
    {
     "data": {
      "text/plain": [
       "<matplotlib.legend.Legend at 0x2a2a5147bc8>"
      ]
     },
     "execution_count": 40,
     "metadata": {},
     "output_type": "execute_result"
    },
    {
     "data": {
      "image/png": "[encoded data removed]",
      "text/plain": [
       "<Figure size 1080x360 with 2 Axes>"
      ]
     },
     "metadata": {
      "needs_background": "light"
     },
     "output_type": "display_data"
    },
    {
     "data": {
      "text/plain": [
       "<Figure size 720x360 with 0 Axes>"
      ]
     },
     "metadata": {},
     "output_type": "display_data"
    }
   ],
   "source": [
    "# training the model with three layers\n",
    "net_den_rel = models.Sequential()\n",
    "\n",
    "# creating more than 32 neurons doesn't significantly increase efficiency  \n",
    "net_den_rel.add(layers.Dense(32, activation = 'relu', input_shape = (4,)))\n",
    "net_den_rel.add(layers.Dense(32, activation = 'relu'))\n",
    "net_den_rel.add(layers.Dense(1, activation = 'sigmoid'))\n",
    "\n",
    "# compilation of the model\n",
    "net_den_rel.compile(\n",
    "            optimizer = 'rmsprop',\n",
    "            loss = 'binary_crossentropy',\n",
    "            metrics = ['accuracy'])\n",
    "\n",
    "# training the model\n",
    "history = net_den_rel.fit(\n",
    "                train_data,\n",
    "                train_lbls,\n",
    "                batch_size = 16,\n",
    "                epochs = 50,\n",
    "                verbose = 0,\n",
    "                validation_data = (val_data, val_lbls))\n",
    "\n",
    "history_dict = history.history\n",
    "\n",
    "fig, (ax1, ax2) = plt.subplots(1, 2, figsize = (15,5))\n",
    "fig = plt.figure(figsize = (10,5))\n",
    "\n",
    "accur = history_dict['accuracy']\n",
    "val_accur = history_dict['val_accuracy']\n",
    "losses = history_dict['loss']\n",
    "val_losses = history_dict['val_loss']\n",
    "\n",
    "epochs = range(1, len(history_dict['accuracy']) + 1)\n",
    "\n",
    "ax1.plot(epochs, losses, 'r', label = 'Training losses')\n",
    "ax1.plot(epochs, val_losses, 'b', label = 'Validation losses')\n",
    "ax1.set_title('Training and validation losses')\n",
    "ax1.set_xlabel('Epochs')\n",
    "ax1.set_ylabel('Losses')\n",
    "ax1.legend()\n",
    "\n",
    "ax2.plot(epochs, accur, 'r', label = 'Training accuracy')\n",
    "ax2.plot(epochs, val_accur, 'b', label = 'Validation accuracy')\n",
    "ax2.set_title('Training and validation accuracy')\n",
    "ax2.set_xlabel('Epochs')\n",
    "ax2.set_ylabel('Accuracy')\n",
    "ax2.legend()"
   ]
  },
  {
   "cell_type": "markdown",
   "metadata": {},
   "source": [
    "As the result, after 50 epochs of training network reach the accuracy of about 81% and losses have the minimal value of about 0.42. The final step is evaluating the model by using the test data. The result of this evaluation illustrates the final accuracy of trained network."
   ]
  },
  {
   "cell_type": "code",
   "execution_count": 41,
   "metadata": {},
   "outputs": [
    {
     "name": "stdout",
     "output_type": "stream",
     "text": [
      "8/8 [==============================] - 0s 2ms/step - loss: 0.4515 - accuracy: 0.8174\n"
     ]
    },
    {
     "data": {
      "text/plain": [
       "[0.4514755606651306, 0.8173912763595581]"
      ]
     },
     "execution_count": 41,
     "metadata": {},
     "output_type": "execute_result"
    }
   ],
   "source": [
    "net_den_rel.fit(train_data, train_lbls, epochs = 15, batch_size = 16, verbose = 0)\n",
    "result2 = net_den_rel.evaluate(test_data, test_lbls)\n",
    "result2"
   ]
  },
  {
   "cell_type": "markdown",
   "metadata": {},
   "source": [
    "Even though on the training stage model reach the accuracy of 81%, after processing the real test data, the percentage of correcly predicted data is only 82.17%. "
   ]
  },
  {
   "cell_type": "markdown",
   "metadata": {},
   "source": [
    "#### 3. Model with slowed learning and regularization\n",
    "In the third experiment, the learning of the model was artificially slowed in order to increase its accuracy. For this reason, the non-standard 'RMSprop' optimizer was used. The 'lr' is learning rate of the network. Thus, by reducing this value the system slower create patterns for learning. The 'l1' and 'l2' are the regularization methods, which correct the impact of one neuron to another. The regularization by both methods simultaneously shows the best accuracy."
   ]
  },
  {
   "cell_type": "code",
   "execution_count": 42,
   "metadata": {},
   "outputs": [
    {
     "data": {
      "text/plain": [
       "<matplotlib.legend.Legend at 0x2a2a3c274c8>"
      ]
     },
     "execution_count": 42,
     "metadata": {},
     "output_type": "execute_result"
    },
    {
     "data": {
      "image/png": "[encoded data removed]",
      "text/plain": [
       "<Figure size 1080x360 with 2 Axes>"
      ]
     },
     "metadata": {
      "needs_background": "light"
     },
     "output_type": "display_data"
    },
    {
     "data": {
      "text/plain": [
       "<Figure size 720x360 with 0 Axes>"
      ]
     },
     "metadata": {},
     "output_type": "display_data"
    }
   ],
   "source": [
    "# training the mixed model with slowed learning (it's due to RMSprop parameter)\n",
    "net_den_rms = models.Sequential()\n",
    "\n",
    "# creating four layers make it possible to process more parameters\n",
    "net_den_rms.add(layers.Dense(64, activation = 'relu', kernel_regularizer=regularizers.l1_l2(l1=0.001, l2=0.001), \n",
    "                             input_shape = (4,)))\n",
    "net_den_rms.add(layers.Dense(32, kernel_regularizer=regularizers.l1_l2(l1=0.001, l2=0.001), activation = 'relu'))\n",
    "net_den_rms.add(layers.Dense(16, kernel_regularizer=regularizers.l1_l2(l1=0.001, l2=0.001), activation = 'relu'))\n",
    "net_den_rms.add(layers.Dense(1, activation = 'sigmoid'))\n",
    "\n",
    "# after testing, it was found that learning rate of 2e-5 is optimal for this architecture\n",
    "net_den_rms.compile(\n",
    "            optimizer = optimizers.RMSprop(lr = 2e-5),\n",
    "            loss = 'binary_crossentropy',\n",
    "            metrics = ['accuracy'])\n",
    "\n",
    "# since the learning rate is slowed, system need more epochs to show the decent accuracy\n",
    "history = net_den_rms.fit(\n",
    "                train_data,\n",
    "                train_lbls,\n",
    "                batch_size = 16,\n",
    "                epochs = 150,\n",
    "                verbose = 0,\n",
    "                validation_data = (val_data, val_lbls))\n",
    "\n",
    "history_dict = history.history\n",
    "\n",
    "fig, (ax1, ax2) = plt.subplots(1, 2, figsize = (15,5))\n",
    "fig = plt.figure(figsize = (10,5))\n",
    "\n",
    "accur = history_dict['accuracy']\n",
    "val_accur = history_dict['val_accuracy']\n",
    "losses = history_dict['loss']\n",
    "val_losses = history_dict['val_loss']\n",
    "\n",
    "epochs = range(1, len(history_dict['accuracy']) + 1)\n",
    "\n",
    "ax1.plot(epochs, losses, 'r', label = 'Training losses')\n",
    "ax1.plot(epochs, val_losses, 'b', label = 'Validation losses')\n",
    "ax1.set_title('Training and validation losses')\n",
    "ax1.set_xlabel('Epochs')\n",
    "ax1.set_ylabel('Losses')\n",
    "ax1.legend()\n",
    "ax2.plot(epochs, accur, 'r', label = 'Training accuracy')\n",
    "ax2.plot(epochs, val_accur, 'b', label = 'Validation accuracy')\n",
    "ax2.set_title('Training and validation accuracy')\n",
    "ax2.set_xlabel('Epochs')\n",
    "ax2.set_ylabel('Accuracy')\n",
    "ax2.legend()"
   ]
  },
  {
   "cell_type": "markdown",
   "metadata": {},
   "source": [
    "As the result, after 150 epochs of training network reach the accuracy of about 76% on validation data. Moreover, losses stay on the high level of 0.76 for the validation data. However, the results of evaluating network using test data are different."
   ]
  },
  {
   "cell_type": "code",
   "execution_count": 43,
   "metadata": {},
   "outputs": [
    {
     "name": "stdout",
     "output_type": "stream",
     "text": [
      "8/8 [==============================] - 0s 2ms/step - loss: 0.7138 - accuracy: 0.8043\n"
     ]
    },
    {
     "data": {
      "text/plain": [
       "[0.7138151526451111, 0.804347813129425]"
      ]
     },
     "execution_count": 43,
     "metadata": {},
     "output_type": "execute_result"
    }
   ],
   "source": [
    "net_den_rms.fit(train_data, train_lbls, epochs = 15, batch_size = 16, verbose = 0)\n",
    "result3 = net_den_rms.evaluate(test_data, test_lbls)\n",
    "result3"
   ]
  },
  {
   "cell_type": "markdown",
   "metadata": {},
   "source": [
    "It is clear, that the final accuracy of prediction is higher (82.6%) than one during the training stage (76%). However, losses are still high."
   ]
  },
  {
   "cell_type": "markdown",
   "metadata": {},
   "source": [
    "#### 4. Model with K-fold data cross-validation\n",
    "In our final experiment, we use the method of K-fold data cross-validation. In this method, training data is divided into certain (K) number of blocks and then used in K-number of identical models. These models use part of fold for training and the rest for validation. The order of blocks differs from model to model. After every model is trained, the resulting accuracy of whole network is calculated as the average of K-models accuracies."
   ]
  },
  {
   "cell_type": "code",
   "execution_count": 44,
   "metadata": {},
   "outputs": [
    {
     "name": "stdout",
     "output_type": "stream",
     "text": [
      "processing fold #  0\n",
      "8/8 [==============================] - 0s 1ms/step - loss: 0.4847 - accuracy: 0.8348\n",
      "processing fold #  1\n",
      "8/8 [==============================] - 0s 3ms/step - loss: 0.5161 - accuracy: 0.8000\n",
      "processing fold #  2\n",
      "8/8 [==============================] - 0s 1ms/step - loss: 0.5551 - accuracy: 0.8261\n",
      "processing fold #  3\n",
      "8/8 [==============================] - 0s 998us/step - loss: 0.5035 - accuracy: 0.8174\n"
     ]
    },
    {
     "data": {
      "text/plain": [
       "<matplotlib.legend.Legend at 0x2a2ab3cce48>"
      ]
     },
     "execution_count": 44,
     "metadata": {},
     "output_type": "execute_result"
    },
    {
     "data": {
      "image/png": "[encoded data removed]",
      "text/plain": [
       "<Figure size 1080x360 with 2 Axes>"
      ]
     },
     "metadata": {
      "needs_background": "light"
     },
     "output_type": "display_data"
    },
    {
     "data": {
      "text/plain": [
       "<Figure size 720x360 with 0 Axes>"
      ]
     },
     "metadata": {},
     "output_type": "display_data"
    }
   ],
   "source": [
    "# training the model with K-fold cross-validation\n",
    "# set the number of K-folds\n",
    "k = 4\n",
    "epoch = 150\n",
    "num_val_samples = len(train_data) // k\n",
    "\n",
    "# creating the dictionaries for training and evalution accuracy of every model\n",
    "acc_train = []\n",
    "acc_results = []\n",
    "\n",
    "# cycle for training K-number of models\n",
    "for i in range(k):\n",
    "    print('processing fold # ', i)\n",
    "    \n",
    "    # processing the validation data from block #k\n",
    "    val_data = train_data[i * num_val_samples : (i+1) * num_val_samples]\n",
    "    \n",
    "    val_lbls = train_lbls[i * num_val_samples : (i+1) * num_val_samples]\n",
    "\n",
    "    # processing the train data from block #k\n",
    "    partial_train_data = np.concatenate([train_data[:i * num_val_samples], \n",
    "                                        train_data[(i+1) * num_val_samples:]], axis = 0)\n",
    "    partial_train_lbls = np.concatenate([train_lbls[:i * num_val_samples], \n",
    "                                        train_lbls[(i+1) * num_val_samples:]], axis = 0)\n",
    "    \n",
    "    # creating #k model\n",
    "    k_model = models.Sequential()\n",
    "    \n",
    "    k_model.add(layers.Dense(64, activation = 'relu', kernel_regularizer=regularizers.l2(0.001), input_shape = (4,)))\n",
    "    k_model.add(layers.Dense(32, activation = 'relu', kernel_regularizer=regularizers.l2(0.001)))\n",
    "    k_model.add(layers.Dense(8, activation = 'relu', kernel_regularizer=regularizers.l2(0.001)))\n",
    "    k_model.add(layers.Dense(1, activation = 'sigmoid'))\n",
    "    \n",
    "    # the train rate for these models are also slowed\n",
    "    k_model.compile(\n",
    "        optimizer = optimizers.RMSprop(lr = 2e-5),\n",
    "        loss = 'binary_crossentropy',\n",
    "        metrics = ['accuracy'])\n",
    "    \n",
    "    # training #k model\n",
    "    history = k_model.fit(\n",
    "        partial_train_data,\n",
    "        partial_train_lbls,\n",
    "        batch_size = 16,\n",
    "        epochs = epoch,\n",
    "        verbose = 0,\n",
    "        validation_data = (val_data, val_lbls))\n",
    "    \n",
    "    # obtaining the accuracy and losses of #k model\n",
    "    val_losses, val_acc = k_model.evaluate(test_data, test_lbls)\n",
    "    \n",
    "    # adding evaluated accuracy of #k model in the dictionary\n",
    "    acc_train.append(val_acc)\n",
    "    \n",
    "    # obtain trainig accuracy of #k model\n",
    "    acc_ev = history.history['accuracy']\n",
    "    \n",
    "    # addiing trainig accuracy of #k model in the dictionary\n",
    "    acc_results.append(acc_ev)\n",
    "\n",
    "history_dict = history.history\n",
    "\n",
    "fig, (ax1, ax2) = plt.subplots(1, 2, figsize = (15,5))\n",
    "fig = plt.figure(figsize = (10,5))\n",
    "\n",
    "accur = history_dict['accuracy']\n",
    "val_accur = history_dict['val_accuracy']\n",
    "losses = history_dict['loss']\n",
    "val_losses = history_dict['val_loss']\n",
    "\n",
    "epochs = range(1, len(history_dict['accuracy']) + 1)\n",
    "\n",
    "ax1.plot(epochs, losses, 'r', label = 'Training losses')\n",
    "ax1.plot(epochs, val_losses, 'b', label = 'Validation losses')\n",
    "ax1.set_title('Training and validation losses')\n",
    "ax1.set_xlabel('Epochs')\n",
    "ax1.set_ylabel('Losses')\n",
    "ax1.legend()\n",
    "ax2.plot(epochs, accur, 'r', label = 'Training accuracy')\n",
    "ax2.plot(epochs, val_accur, 'b', label = 'Validation accuracy')\n",
    "ax2.set_title('Training and validation accuracy')\n",
    "ax2.set_xlabel('Epochs')\n",
    "ax2.set_ylabel('Accuracy')\n",
    "ax2.legend()"
   ]
  },
  {
   "cell_type": "markdown",
   "metadata": {},
   "source": [
    "From the graph for the 4-th trained model, the losses during the validation are about 0.6. Also, the validation accuracy of about 75% is relatively low. However, the prediction accuracy is 82.2%. The final step is to compute the average accuracy, which is the final prediction accuracy of the whole network."
   ]
  },
  {
   "cell_type": "code",
   "execution_count": 45,
   "metadata": {},
   "outputs": [
    {
     "name": "stdout",
     "output_type": "stream",
     "text": [
      "[0.834782600402832, 0.800000011920929, 0.8260869383811951, 0.8173912763595581]\n",
      "0.8195652067661285\n"
     ]
    }
   ],
   "source": [
    "# calculating the mean \n",
    "average_acc = [np.mean([x[i] for x in acc_results]) for i in range(epoch)]\n",
    "\n",
    "print(acc_train)\n",
    "print(np.mean(acc_train))"
   ]
  },
  {
   "cell_type": "markdown",
   "metadata": {},
   "source": [
    "Here presented the accuracies of each K-model and the average value for the whole network. The K-fold cross-validation has almost the same accuracy as the others rewiewed in this work."
   ]
  },
  {
   "cell_type": "markdown",
   "metadata": {},
   "source": [
    "### NN CONCLUSION"
   ]
  },
  {
   "cell_type": "markdown",
   "metadata": {},
   "source": [
    "The maximum accuracy for binary classification of cancer tumor stands at 83% for the network with simpliest architecture without any optimizers or regularizations."
   ]
  },
  {
   "cell_type": "markdown",
   "metadata": {},
   "source": [
    "# GENERAL CONCLUSION"
   ]
  },
  {
   "cell_type": "code",
   "execution_count": 46,
   "metadata": {},
   "outputs": [],
   "source": [
    "# append the NN result into log dataframe and visualize the results\n",
    "NN = pd.DataFrame([['Neural Net',83.0434799]], columns = log_cols)"
   ]
  },
  {
   "cell_type": "code",
   "execution_count": 47,
   "metadata": {},
   "outputs": [
    {
     "data": {
      "text/html": [
       "<div>\n",
       "<style scoped>\n",
       "    .dataframe tbody tr th:only-of-type {\n",
       "        vertical-align: middle;\n",
       "    }\n",
       "\n",
       "    .dataframe tbody tr th {\n",
       "        vertical-align: top;\n",
       "    }\n",
       "\n",
       "    .dataframe thead th {\n",
       "        text-align: right;\n",
       "    }\n",
       "</style>\n",
       "<table border=\"1\" class=\"dataframe\">\n",
       "  <thead>\n",
       "    <tr style=\"text-align: right;\">\n",
       "      <th></th>\n",
       "      <th>Classifier Name</th>\n",
       "      <th>Accuracy</th>\n",
       "    </tr>\n",
       "  </thead>\n",
       "  <tbody>\n",
       "    <tr>\n",
       "      <th>0</th>\n",
       "      <td>SVC(C=0.1, kernel='poly')</td>\n",
       "      <td>84.337349</td>\n",
       "    </tr>\n",
       "    <tr>\n",
       "      <th>1</th>\n",
       "      <td>Neural Net</td>\n",
       "      <td>83.043480</td>\n",
       "    </tr>\n",
       "    <tr>\n",
       "      <th>2</th>\n",
       "      <td>SVC(C=0.01, kernel='linear')</td>\n",
       "      <td>80.722892</td>\n",
       "    </tr>\n",
       "    <tr>\n",
       "      <th>3</th>\n",
       "      <td>SVC(C=1)</td>\n",
       "      <td>80.722892</td>\n",
       "    </tr>\n",
       "    <tr>\n",
       "      <th>4</th>\n",
       "      <td>LogisticRegression(C=0.1)</td>\n",
       "      <td>80.722892</td>\n",
       "    </tr>\n",
       "    <tr>\n",
       "      <th>5</th>\n",
       "      <td>KNeighborsClassifier(n_neighbors=8)</td>\n",
       "      <td>80.722892</td>\n",
       "    </tr>\n",
       "    <tr>\n",
       "      <th>6</th>\n",
       "      <td>GaussianNB()</td>\n",
       "      <td>79.518072</td>\n",
       "    </tr>\n",
       "    <tr>\n",
       "      <th>7</th>\n",
       "      <td>MultinomialNB()</td>\n",
       "      <td>79.518072</td>\n",
       "    </tr>\n",
       "    <tr>\n",
       "      <th>8</th>\n",
       "      <td>GradientBoostingClassifier()</td>\n",
       "      <td>77.108434</td>\n",
       "    </tr>\n",
       "    <tr>\n",
       "      <th>9</th>\n",
       "      <td>DecisionTreeClassifier(max_depth=5)</td>\n",
       "      <td>75.903614</td>\n",
       "    </tr>\n",
       "    <tr>\n",
       "      <th>10</th>\n",
       "      <td>SVC(C=0.1, kernel='sigmoid')</td>\n",
       "      <td>45.783133</td>\n",
       "    </tr>\n",
       "  </tbody>\n",
       "</table>\n",
       "</div>"
      ],
      "text/plain": [
       "                        Classifier Name   Accuracy\n",
       "0             SVC(C=0.1, kernel='poly')  84.337349\n",
       "1                            Neural Net  83.043480\n",
       "2          SVC(C=0.01, kernel='linear')  80.722892\n",
       "3                              SVC(C=1)  80.722892\n",
       "4             LogisticRegression(C=0.1)  80.722892\n",
       "5   KNeighborsClassifier(n_neighbors=8)  80.722892\n",
       "6                          GaussianNB()  79.518072\n",
       "7                       MultinomialNB()  79.518072\n",
       "8          GradientBoostingClassifier()  77.108434\n",
       "9   DecisionTreeClassifier(max_depth=5)  75.903614\n",
       "10         SVC(C=0.1, kernel='sigmoid')  45.783133"
      ]
     },
     "execution_count": 47,
     "metadata": {},
     "output_type": "execute_result"
    }
   ],
   "source": [
    "log = log.append(NN, ignore_index = True).sort_values('Accuracy', ascending = False, ignore_index = True)\n",
    "log"
   ]
  },
  {
   "cell_type": "code",
   "execution_count": 48,
   "metadata": {},
   "outputs": [
    {
     "data": {
      "image/png": "[encoded data removed]",
      "text/plain": [
       "<Figure size 432x288 with 1 Axes>"
      ]
     },
     "metadata": {
      "needs_background": "light"
     },
     "output_type": "display_data"
    }
   ],
   "source": [
    "sns.barplot(x='Accuracy', y='Classifier Name', data=log, color=\"b\")\n",
    "plt.xlabel('Accuracy %')\n",
    "plt.title('Prediction Accuracy')\n",
    "plt.show()"
   ]
  },
  {
   "cell_type": "markdown",
   "metadata": {},
   "source": [
    "We observe that, SVC with polynomial kernel function outperformed the rest of the algorithms while SVC with sigmoid kernel function performed the worst. The accuracy may become much higher if the number of training datasets are increased. Using common sense and the proposed SVM model, a doctor may make the more accurate decisions as to whether he may carry on an operation or not."
   ]
  }
 ],
 "metadata": {
  "kernelspec": {
   "display_name": "Python 3",
   "language": "python",
   "name": "python3"
  },
  "language_info": {
   "codemirror_mode": {
    "name": "ipython",
    "version": 3
   },
   "file_extension": ".py",
   "mimetype": "text/x-python",
   "name": "python",
   "nbconvert_exporter": "python",
   "pygments_lexer": "ipython3",
   "version": "3.7.10"
  }
 },
 "nbformat": 4,
 "nbformat_minor": 4
}
